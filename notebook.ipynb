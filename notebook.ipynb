{
 "cells": [
  {
   "cell_type": "code",
   "execution_count": 28,
   "id": "emotional-local",
   "metadata": {},
   "outputs": [
    {
     "data": {
      "application/vnd.jupyter.widget-view+json": {
       "model_id": "c3dd83827fbc4ac79a5b6813696bd674",
       "version_major": 2,
       "version_minor": 0
      },
      "text/plain": [
       "VBox()"
      ]
     },
     "metadata": {},
     "output_type": "display_data"
    },
    {
     "data": {
      "application/vnd.jupyter.widget-view+json": {
       "model_id": "",
       "version_major": 2,
       "version_minor": 0
      },
      "text/plain": [
       "FloatProgress(value=0.0, bar_style='info', description='Progress:', layout=Layout(height='25px', width='50%'),…"
      ]
     },
     "metadata": {},
     "output_type": "display_data"
    },
    {
     "name": "stdout",
     "output_type": "stream",
     "text": [
      "[Row(x1=1, x2=147, x3=68)]"
     ]
    }
   ],
   "source": [
    "from pyspark import SparkConf, SparkContext\n",
    "from pyspark.sql import SQLContext\n",
    "# sc= SparkContext()\n",
    "sqlContext = SQLContext(sc)\n",
    "df = sqlContext.read.format('com.databricks.spark.csv').options(header='true', inferschema='true').load('s3://aws-sa-ray-us-east-1/mydata.csv')\n",
    "df.take(1)"
   ]
  },
  {
   "cell_type": "code",
   "execution_count": 29,
   "id": "enclosed-authorization",
   "metadata": {},
   "outputs": [
    {
     "data": {
      "application/vnd.jupyter.widget-view+json": {
       "model_id": "4a4513fcf337460eaaf1d4ca982cd0ce",
       "version_major": 2,
       "version_minor": 0
      },
      "text/plain": [
       "VBox()"
      ]
     },
     "metadata": {},
     "output_type": "display_data"
    },
    {
     "data": {
      "application/vnd.jupyter.widget-view+json": {
       "model_id": "",
       "version_major": 2,
       "version_minor": 0
      },
      "text/plain": [
       "FloatProgress(value=0.0, bar_style='info', description='Progress:', layout=Layout(height='25px', width='50%'),…"
      ]
     },
     "metadata": {},
     "output_type": "display_data"
    },
    {
     "name": "stdout",
     "output_type": "stream",
     "text": [
      "root\n",
      " |-- x1: integer (nullable = true)\n",
      " |-- x2: integer (nullable = true)\n",
      " |-- x3: integer (nullable = true)"
     ]
    }
   ],
   "source": [
    "df.cache()\n",
    "df.printSchema()"
   ]
  },
  {
   "cell_type": "code",
   "execution_count": 30,
   "id": "minor-mortality",
   "metadata": {},
   "outputs": [
    {
     "data": {
      "application/vnd.jupyter.widget-view+json": {
       "model_id": "91e32c20235b4342a8ed329187e8a8c9",
       "version_major": 2,
       "version_minor": 0
      },
      "text/plain": [
       "VBox()"
      ]
     },
     "metadata": {},
     "output_type": "display_data"
    },
    {
     "data": {
      "application/vnd.jupyter.widget-view+json": {
       "model_id": "",
       "version_major": 2,
       "version_minor": 0
      },
      "text/plain": [
       "FloatProgress(value=0.0, bar_style='info', description='Progress:', layout=Layout(height='25px', width='50%'),…"
      ]
     },
     "metadata": {},
     "output_type": "display_data"
    },
    {
     "name": "stdout",
     "output_type": "stream",
     "text": [
      "Package                    Version   \n",
      "-------------------------- ----------\n",
      "beautifulsoup4             4.9.3     \n",
      "boto                       2.49.0    \n",
      "click                      7.1.2     \n",
      "cycler                     0.10.0    \n",
      "jmespath                   0.10.0    \n",
      "joblib                     0.17.0    \n",
      "kiwisolver                 1.3.1     \n",
      "lxml                       4.6.1     \n",
      "matplotlib                 3.4.1     \n",
      "mysqlclient                1.4.2     \n",
      "nltk                       3.5       \n",
      "nose                       1.3.4     \n",
      "numpy                      1.16.5    \n",
      "pandas                     1.2.3     \n",
      "Pillow                     8.1.2     \n",
      "pip                        9.0.1     \n",
      "py-dateutil                2.2       \n",
      "pyparsing                  2.4.7     \n",
      "python-dateutil            2.8.1     \n",
      "python37-sagemaker-pyspark 1.4.1     \n",
      "pytz                       2020.1    \n",
      "PyYAML                     5.3.1     \n",
      "regex                      2020.10.28\n",
      "setuptools                 28.8.0    \n",
      "six                        1.13.0    \n",
      "tqdm                       4.51.0    \n",
      "wheel                      0.29.0    \n",
      "windmill                   1.6"
     ]
    }
   ],
   "source": [
    "sc.list_packages()"
   ]
  },
  {
   "cell_type": "code",
   "execution_count": 31,
   "id": "judicial-ordinary",
   "metadata": {},
   "outputs": [
    {
     "data": {
      "application/vnd.jupyter.widget-view+json": {
       "model_id": "4c465599de74458d949dc296e4b23860",
       "version_major": 2,
       "version_minor": 0
      },
      "text/plain": [
       "VBox()"
      ]
     },
     "metadata": {},
     "output_type": "display_data"
    },
    {
     "data": {
      "application/vnd.jupyter.widget-view+json": {
       "model_id": "",
       "version_major": 2,
       "version_minor": 0
      },
      "text/plain": [
       "FloatProgress(value=0.0, bar_style='info', description='Progress:', layout=Layout(height='25px', width='50%'),…"
      ]
     },
     "metadata": {},
     "output_type": "display_data"
    },
    {
     "name": "stderr",
     "output_type": "stream",
     "text": [
      "An error was encountered:\n",
      "Package already installed for current Spark context!\n",
      "Traceback (most recent call last):\n",
      "  File \"/usr/lib/spark/python/lib/pyspark.zip/pyspark/context.py\", line 1110, in install_pypi_package\n",
      "    raise ValueError(\"Package already installed for current Spark context!\")\n",
      "ValueError: Package already installed for current Spark context!\n",
      "\n"
     ]
    }
   ],
   "source": [
    "sc.install_pypi_package(\"pandas\") #Install pandas version 0.25.1 \n",
    "sc.install_pypi_package(\"matplotlib\", \"https://pypi.org/simple\") #Install matplotlib from given PyPI repository"
   ]
  },
  {
   "cell_type": "code",
   "execution_count": 32,
   "id": "minimal-exclusive",
   "metadata": {},
   "outputs": [
    {
     "data": {
      "application/vnd.jupyter.widget-view+json": {
       "model_id": "4483f153d1324c24ad915403fbc7d7d0",
       "version_major": 2,
       "version_minor": 0
      },
      "text/plain": [
       "VBox()"
      ]
     },
     "metadata": {},
     "output_type": "display_data"
    },
    {
     "data": {
      "application/vnd.jupyter.widget-view+json": {
       "model_id": "",
       "version_major": 2,
       "version_minor": 0
      },
      "text/plain": [
       "FloatProgress(value=0.0, bar_style='info', description='Progress:', layout=Layout(height='25px', width='50%'),…"
      ]
     },
     "metadata": {},
     "output_type": "display_data"
    },
    {
     "name": "stdout",
     "output_type": "stream",
     "text": [
      "               0           1                   2    3        4\n",
      "summary    count        mean              stddev  min      max\n",
      "x1       1000000    500000.5   288675.2789323441    1  1000000\n",
      "x2       1000000  159.979326  17.607377221081556  130      190\n",
      "x3       1000000   80.011905  23.373147061852208   40      120"
     ]
    }
   ],
   "source": [
    "df.describe().toPandas().transpose()"
   ]
  },
  {
   "cell_type": "code",
   "execution_count": 42,
   "id": "american-adolescent",
   "metadata": {},
   "outputs": [
    {
     "data": {
      "application/vnd.jupyter.widget-view+json": {
       "model_id": "51e09dd2c638410b93fb931273e0a507",
       "version_major": 2,
       "version_minor": 0
      },
      "text/plain": [
       "VBox()"
      ]
     },
     "metadata": {},
     "output_type": "display_data"
    },
    {
     "data": {
      "application/vnd.jupyter.widget-view+json": {
       "model_id": "",
       "version_major": 2,
       "version_minor": 0
      },
      "text/plain": [
       "FloatProgress(value=0.0, bar_style='info', description='Progress:', layout=Layout(height='25px', width='50%'),…"
      ]
     },
     "metadata": {},
     "output_type": "display_data"
    },
    {
     "name": "stdout",
     "output_type": "stream",
     "text": [
      "Correlation to x3 for  x1 0.00014978178757055975\n",
      "Correlation to x3 for  x2 0.0009398301078493216\n",
      "Correlation to x3 for  x3 1.0"
     ]
    }
   ],
   "source": [
    "import six\n",
    "for i in df.columns:\n",
    "    print( \"Correlation to x3 for \", i, df.stat.corr('x3',i))"
   ]
  },
  {
   "cell_type": "code",
   "execution_count": 43,
   "id": "awful-gambling",
   "metadata": {},
   "outputs": [
    {
     "data": {
      "application/vnd.jupyter.widget-view+json": {
       "model_id": "fd7f5ebe4c5a49d5a2be1bcec9e6006b",
       "version_major": 2,
       "version_minor": 0
      },
      "text/plain": [
       "VBox()"
      ]
     },
     "metadata": {},
     "output_type": "display_data"
    },
    {
     "data": {
      "application/vnd.jupyter.widget-view+json": {
       "model_id": "",
       "version_major": 2,
       "version_minor": 0
      },
      "text/plain": [
       "FloatProgress(value=0.0, bar_style='info', description='Progress:', layout=Layout(height='25px', width='50%'),…"
      ]
     },
     "metadata": {},
     "output_type": "display_data"
    },
    {
     "name": "stdout",
     "output_type": "stream",
     "text": [
      "+-----------+---+\n",
      "|   features| x3|\n",
      "+-----------+---+\n",
      "|[1.0,147.0]| 68|\n",
      "|[2.0,144.0]| 96|\n",
      "|[3.0,167.0]|104|\n",
      "+-----------+---+\n",
      "only showing top 3 rows"
     ]
    }
   ],
   "source": [
    "from pyspark.ml.feature import VectorAssembler\n",
    "vectorAssembler = VectorAssembler(inputCols = ['x1','x2'], outputCol = 'features')\n",
    "v_df = vectorAssembler.transform(df)\n",
    "v_df = v_df.select(['features', 'x3'])\n",
    "v_df.show(3)"
   ]
  },
  {
   "cell_type": "code",
   "execution_count": 44,
   "id": "interested-paint",
   "metadata": {},
   "outputs": [
    {
     "data": {
      "application/vnd.jupyter.widget-view+json": {
       "model_id": "fcfe39ad398a48f48ae9bb19122a563d",
       "version_major": 2,
       "version_minor": 0
      },
      "text/plain": [
       "VBox()"
      ]
     },
     "metadata": {},
     "output_type": "display_data"
    },
    {
     "data": {
      "application/vnd.jupyter.widget-view+json": {
       "model_id": "",
       "version_major": 2,
       "version_minor": 0
      },
      "text/plain": [
       "FloatProgress(value=0.0, bar_style='info', description='Progress:', layout=Layout(height='25px', width='50%'),…"
      ]
     },
     "metadata": {},
     "output_type": "display_data"
    }
   ],
   "source": [
    "splits = v_df.randomSplit([0.7, 0.3])\n",
    "train_df = splits[0]\n",
    "test_df = splits[1]"
   ]
  },
  {
   "cell_type": "code",
   "execution_count": 45,
   "id": "unable-algebra",
   "metadata": {},
   "outputs": [
    {
     "data": {
      "application/vnd.jupyter.widget-view+json": {
       "model_id": "b91c9fc99c30488bb82e0f3e661de6ba",
       "version_major": 2,
       "version_minor": 0
      },
      "text/plain": [
       "VBox()"
      ]
     },
     "metadata": {},
     "output_type": "display_data"
    },
    {
     "data": {
      "application/vnd.jupyter.widget-view+json": {
       "model_id": "",
       "version_major": 2,
       "version_minor": 0
      },
      "text/plain": [
       "FloatProgress(value=0.0, bar_style='info', description='Progress:', layout=Layout(height='25px', width='50%'),…"
      ]
     },
     "metadata": {},
     "output_type": "display_data"
    },
    {
     "name": "stdout",
     "output_type": "stream",
     "text": [
      "Coefficients: [0.0,0.0]\n",
      "Intercept: 79.99309421061801"
     ]
    }
   ],
   "source": [
    "from pyspark.ml.regression import LinearRegression\n",
    "lr = LinearRegression(featuresCol = 'features', labelCol='x3', maxIter=10, regParam=0.3, elasticNetParam=0.8)\n",
    "lr_model = lr.fit(train_df)\n",
    "print(\"Coefficients: \" + str(lr_model.coefficients))\n",
    "print(\"Intercept: \" + str(lr_model.intercept))"
   ]
  },
  {
   "cell_type": "code",
   "execution_count": 46,
   "id": "monthly-taylor",
   "metadata": {},
   "outputs": [
    {
     "data": {
      "application/vnd.jupyter.widget-view+json": {
       "model_id": "b03d5f0aeb2b482081c423e1a35c8803",
       "version_major": 2,
       "version_minor": 0
      },
      "text/plain": [
       "VBox()"
      ]
     },
     "metadata": {},
     "output_type": "display_data"
    },
    {
     "data": {
      "application/vnd.jupyter.widget-view+json": {
       "model_id": "",
       "version_major": 2,
       "version_minor": 0
      },
      "text/plain": [
       "FloatProgress(value=0.0, bar_style='info', description='Progress:', layout=Layout(height='25px', width='50%'),…"
      ]
     },
     "metadata": {},
     "output_type": "display_data"
    },
    {
     "name": "stdout",
     "output_type": "stream",
     "text": [
      "RMSE: 23.375243\n",
      "r2: 0.000000"
     ]
    }
   ],
   "source": [
    "trainingSummary = lr_model.summary\n",
    "print(\"RMSE: %f\" % trainingSummary.rootMeanSquaredError)\n",
    "print(\"r2: %f\" % trainingSummary.r2)"
   ]
  },
  {
   "cell_type": "code",
   "execution_count": 47,
   "id": "rapid-essence",
   "metadata": {},
   "outputs": [
    {
     "data": {
      "application/vnd.jupyter.widget-view+json": {
       "model_id": "118fd4a3e100415588e9abce32449cb0",
       "version_major": 2,
       "version_minor": 0
      },
      "text/plain": [
       "VBox()"
      ]
     },
     "metadata": {},
     "output_type": "display_data"
    },
    {
     "data": {
      "application/vnd.jupyter.widget-view+json": {
       "model_id": "",
       "version_major": 2,
       "version_minor": 0
      },
      "text/plain": [
       "FloatProgress(value=0.0, bar_style='info', description='Progress:', layout=Layout(height='25px', width='50%'),…"
      ]
     },
     "metadata": {},
     "output_type": "display_data"
    },
    {
     "name": "stdout",
     "output_type": "stream",
     "text": [
      "+-------+-----------------+\n",
      "|summary|               x3|\n",
      "+-------+-----------------+\n",
      "|  count|           700282|\n",
      "|   mean|79.99309421061801|\n",
      "| stddev| 23.3752597365512|\n",
      "|    min|               40|\n",
      "|    max|              120|\n",
      "+-------+-----------------+"
     ]
    }
   ],
   "source": [
    "train_df.describe().show()"
   ]
  },
  {
   "cell_type": "code",
   "execution_count": 50,
   "id": "regular-toolbox",
   "metadata": {},
   "outputs": [
    {
     "data": {
      "application/vnd.jupyter.widget-view+json": {
       "model_id": "fbf964c363fb4e65afc79e10e3396cee",
       "version_major": 2,
       "version_minor": 0
      },
      "text/plain": [
       "VBox()"
      ]
     },
     "metadata": {},
     "output_type": "display_data"
    },
    {
     "data": {
      "application/vnd.jupyter.widget-view+json": {
       "model_id": "",
       "version_major": 2,
       "version_minor": 0
      },
      "text/plain": [
       "FloatProgress(value=0.0, bar_style='info', description='Progress:', layout=Layout(height='25px', width='50%'),…"
      ]
     },
     "metadata": {},
     "output_type": "display_data"
    },
    {
     "name": "stdout",
     "output_type": "stream",
     "text": [
      "+-----------------+---+-----------+\n",
      "|       prediction| x3|   features|\n",
      "+-----------------+---+-----------+\n",
      "|79.99309421061801| 68|[1.0,147.0]|\n",
      "|79.99309421061801| 96|[2.0,144.0]|\n",
      "|79.99309421061801|104|[3.0,167.0]|\n",
      "|79.99309421061801|118|[5.0,163.0]|\n",
      "|79.99309421061801| 81|[6.0,183.0]|\n",
      "+-----------------+---+-----------+\n",
      "only showing top 5 rows\n",
      "\n",
      "R Squared (R2) on test data = -7.21339e-06"
     ]
    }
   ],
   "source": [
    "lr_predictions = lr_model.transform(test_df)\n",
    "lr_predictions.select(\"prediction\",\"x3\",\"features\").show(5)\n",
    "from pyspark.ml.evaluation import RegressionEvaluator\n",
    "lr_evaluator = RegressionEvaluator(predictionCol=\"prediction\", \\\n",
    "                 labelCol=\"x3\",metricName=\"r2\")\n",
    "print(\"R Squared (R2) on test data = %g\" % lr_evaluator.evaluate(lr_predictions))"
   ]
  },
  {
   "cell_type": "code",
   "execution_count": 51,
   "id": "vietnamese-youth",
   "metadata": {},
   "outputs": [
    {
     "data": {
      "application/vnd.jupyter.widget-view+json": {
       "model_id": "64ae4644694746118acc43d1eca2f79f",
       "version_major": 2,
       "version_minor": 0
      },
      "text/plain": [
       "VBox()"
      ]
     },
     "metadata": {},
     "output_type": "display_data"
    },
    {
     "data": {
      "application/vnd.jupyter.widget-view+json": {
       "model_id": "",
       "version_major": 2,
       "version_minor": 0
      },
      "text/plain": [
       "FloatProgress(value=0.0, bar_style='info', description='Progress:', layout=Layout(height='25px', width='50%'),…"
      ]
     },
     "metadata": {},
     "output_type": "display_data"
    },
    {
     "name": "stdout",
     "output_type": "stream",
     "text": [
      "Root Mean Squared Error (RMSE) on test data = 23.3682"
     ]
    }
   ],
   "source": [
    "test_result = lr_model.evaluate(test_df)\n",
    "print(\"Root Mean Squared Error (RMSE) on test data = %g\" % test_result.rootMeanSquaredError)"
   ]
  },
  {
   "cell_type": "code",
   "execution_count": 52,
   "id": "welsh-split",
   "metadata": {},
   "outputs": [
    {
     "data": {
      "application/vnd.jupyter.widget-view+json": {
       "model_id": "9cdb6464690445499c88a2c11f30b2ce",
       "version_major": 2,
       "version_minor": 0
      },
      "text/plain": [
       "VBox()"
      ]
     },
     "metadata": {},
     "output_type": "display_data"
    },
    {
     "data": {
      "application/vnd.jupyter.widget-view+json": {
       "model_id": "",
       "version_major": 2,
       "version_minor": 0
      },
      "text/plain": [
       "FloatProgress(value=0.0, bar_style='info', description='Progress:', layout=Layout(height='25px', width='50%'),…"
      ]
     },
     "metadata": {},
     "output_type": "display_data"
    },
    {
     "name": "stdout",
     "output_type": "stream",
     "text": [
      "numIterations: 1\n",
      "objectiveHistory: [0.5]\n",
      "+--------------------+\n",
      "|           residuals|\n",
      "+--------------------+\n",
      "| -14.993094210618011|\n",
      "|   25.00690578938199|\n",
      "| -15.993094210618011|\n",
      "|   25.00690578938199|\n",
      "|   32.00690578938199|\n",
      "|0.006905789381988825|\n",
      "|  -22.99309421061801|\n",
      "|  -7.993094210618011|\n",
      "|   5.006905789381989|\n",
      "| -15.993094210618011|\n",
      "|   26.00690578938199|\n",
      "|  -7.993094210618011|\n",
      "|   2.006905789381989|\n",
      "|  12.006905789381989|\n",
      "|0.006905789381988825|\n",
      "|  -27.99309421061801|\n",
      "|  -9.993094210618011|\n",
      "|  11.006905789381989|\n",
      "|   31.00690578938199|\n",
      "|   9.006905789381989|\n",
      "+--------------------+\n",
      "only showing top 20 rows"
     ]
    }
   ],
   "source": [
    "print(\"numIterations: %d\" % trainingSummary.totalIterations)\n",
    "print(\"objectiveHistory: %s\" % str(trainingSummary.objectiveHistory))\n",
    "trainingSummary.residuals.show()"
   ]
  },
  {
   "cell_type": "code",
   "execution_count": 54,
   "id": "optional-penalty",
   "metadata": {},
   "outputs": [
    {
     "data": {
      "application/vnd.jupyter.widget-view+json": {
       "model_id": "e68a182f6ac14b67a98105adb5a86984",
       "version_major": 2,
       "version_minor": 0
      },
      "text/plain": [
       "VBox()"
      ]
     },
     "metadata": {},
     "output_type": "display_data"
    },
    {
     "data": {
      "application/vnd.jupyter.widget-view+json": {
       "model_id": "",
       "version_major": 2,
       "version_minor": 0
      },
      "text/plain": [
       "FloatProgress(value=0.0, bar_style='info', description='Progress:', layout=Layout(height='25px', width='50%'),…"
      ]
     },
     "metadata": {},
     "output_type": "display_data"
    },
    {
     "name": "stdout",
     "output_type": "stream",
     "text": [
      "+-----------------+---+------------+\n",
      "|       prediction| x3|    features|\n",
      "+-----------------+---+------------+\n",
      "|79.99309421061801| 68| [1.0,147.0]|\n",
      "|79.99309421061801| 96| [2.0,144.0]|\n",
      "|79.99309421061801|104| [3.0,167.0]|\n",
      "|79.99309421061801|118| [5.0,163.0]|\n",
      "|79.99309421061801| 81| [6.0,183.0]|\n",
      "|79.99309421061801| 68| [8.0,142.0]|\n",
      "|79.99309421061801| 40|[13.0,162.0]|\n",
      "|79.99309421061801| 61|[16.0,142.0]|\n",
      "|79.99309421061801|102|[20.0,159.0]|\n",
      "|79.99309421061801| 96|[22.0,174.0]|\n",
      "|79.99309421061801| 50|[23.0,182.0]|\n",
      "|79.99309421061801| 40|[25.0,140.0]|\n",
      "|79.99309421061801| 40|[29.0,178.0]|\n",
      "|79.99309421061801| 64|[35.0,190.0]|\n",
      "|79.99309421061801| 61|[38.0,160.0]|\n",
      "|79.99309421061801| 61|[39.0,173.0]|\n",
      "|79.99309421061801| 74|[40.0,155.0]|\n",
      "|79.99309421061801|107|[42.0,172.0]|\n",
      "|79.99309421061801|113|[43.0,151.0]|\n",
      "|79.99309421061801| 47|[44.0,159.0]|\n",
      "+-----------------+---+------------+\n",
      "only showing top 20 rows"
     ]
    }
   ],
   "source": [
    "predictions = lr_model.transform(test_df)\n",
    "predictions.select(\"prediction\",\"x3\",\"features\").show()\n"
   ]
  },
  {
   "cell_type": "code",
   "execution_count": null,
   "id": "dried-rating",
   "metadata": {},
   "outputs": [],
   "source": []
  }
 ],
 "metadata": {
  "kernelspec": {
   "display_name": "PySpark",
   "language": "",
   "name": "pysparkkernel"
  },
  "language_info": {
   "codemirror_mode": {
    "name": "python",
    "version": 3
   },
   "mimetype": "text/x-python",
   "name": "pyspark",
   "pygments_lexer": "python3"
  },
  "widgets": {
   "application/vnd.jupyter.widget-state+json": {
    "state": {
     "00b728c40f384337aee43422058f2727": {
      "model_module": "@jupyter-widgets/controls",
      "model_module_version": "1.5.0",
      "model_name": "VBoxModel",
      "state": {
       "layout": "IPY_MODEL_0356a8017d0a4256a28f3cccbbdb03c0"
      }
     },
     "00bf998270db4c799b8ebdc7f0304750": {
      "model_module": "@jupyter-widgets/controls",
      "model_module_version": "1.5.0",
      "model_name": "VBoxModel",
      "state": {
       "layout": "IPY_MODEL_8044acd316f542568dada2d1c2fcb355"
      }
     },
     "00da0d2afc284b7686c6fb4a86d3b472": {
      "model_module": "@jupyter-widgets/base",
      "model_module_version": "1.2.0",
      "model_name": "LayoutModel",
      "state": {
       "height": "25px",
       "width": "50%"
      }
     },
     "00eda1d2d88b44a5ad638c89cebdaa12": {
      "model_module": "@jupyter-widgets/controls",
      "model_module_version": "1.5.0",
      "model_name": "ButtonModel",
      "state": {
       "description": "Stage [ID]: name at [source]:[line]",
       "layout": "IPY_MODEL_1256848c51b6496dbe19541a0b692139",
       "style": "IPY_MODEL_f0d3fce041d941b18cee6e27819f1fb8"
      }
     },
     "00f9f04d1ff44834accaff7c6abfe03d": {
      "model_module": "@jupyter-widgets/controls",
      "model_module_version": "1.5.0",
      "model_name": "IntProgressModel",
      "state": {
       "bar_style": "success",
       "layout": "IPY_MODEL_fde18eb23bff437db19e8d48201a0a57",
       "max": 1,
       "style": "IPY_MODEL_25c1ae8638604659a60415245ff60bb6",
       "value": 1
      }
     },
     "012878eb9aab4c478c3ceb94b6211e7e": {
      "model_module": "@jupyter-widgets/controls",
      "model_module_version": "1.5.0",
      "model_name": "ButtonStyleModel",
      "state": {}
     },
     "02227bc655494c05b3b1c055974ecd93": {
      "model_module": "@jupyter-widgets/controls",
      "model_module_version": "1.5.0",
      "model_name": "LabelModel",
      "state": {
       "layout": "IPY_MODEL_6e2528ad6a264f009d65401a9edc6d25",
       "style": "IPY_MODEL_ff69d983d06f43a786ab9240b151f51f",
       "value": "Job Progress: 1/1 Tasks Complete"
      }
     },
     "0224ef22690346c3bcf8e535033c9584": {
      "model_module": "@jupyter-widgets/controls",
      "model_module_version": "1.5.0",
      "model_name": "ButtonStyleModel",
      "state": {}
     },
     "0356a8017d0a4256a28f3cccbbdb03c0": {
      "model_module": "@jupyter-widgets/base",
      "model_module_version": "1.2.0",
      "model_name": "LayoutModel",
      "state": {}
     },
     "03ca876253d9423d9d5698be7c769867": {
      "model_module": "@jupyter-widgets/controls",
      "model_module_version": "1.5.0",
      "model_name": "HBoxModel",
      "state": {
       "children": [
        "IPY_MODEL_29071f96ee1249cda50cee5d293bf29a",
        "IPY_MODEL_5c44449ac0014f9798842376594cb112"
       ],
       "layout": "IPY_MODEL_e5777548473d41cb81faf5adedf8fa92"
      }
     },
     "042ae275ba6c47cb962659f967a52914": {
      "model_module": "@jupyter-widgets/controls",
      "model_module_version": "1.5.0",
      "model_name": "ButtonModel",
      "state": {
       "description": "Status",
       "layout": "IPY_MODEL_b29433e3209e4847af4958308abd82d5",
       "style": "IPY_MODEL_a9bb09332aa6490faf4d55ad987ab7f9"
      }
     },
     "04f62da34f6d4d9e81c18ebaffa2b4ce": {
      "model_module": "@jupyter-widgets/controls",
      "model_module_version": "1.5.0",
      "model_name": "ButtonStyleModel",
      "state": {}
     },
     "051ac99b844541dea5657e74942670e0": {
      "model_module": "@jupyter-widgets/controls",
      "model_module_version": "1.5.0",
      "model_name": "HBoxModel",
      "state": {
       "children": [
        "IPY_MODEL_beafdf00d5524050aa23e53b01bcb37e",
        "IPY_MODEL_ff2a27dd044e4cb5a646460f49ee8ea9",
        "IPY_MODEL_8527a9d57aca41d88dc929441af4c5fd",
        "IPY_MODEL_321e4fa3c125431c9bbcdd599a8f199f",
        "IPY_MODEL_93e6de78775a4451af54c53014e82c02"
       ],
       "layout": "IPY_MODEL_63569457907d4aedb153e88810a20a6a"
      }
     },
     "0563f93aa8ea4f61bdcba75a5c4f6f90": {
      "model_module": "@jupyter-widgets/base",
      "model_module_version": "1.2.0",
      "model_name": "LayoutModel",
      "state": {}
     },
     "0689204bda8046c1accf2de48fd5b06f": {
      "model_module": "@jupyter-widgets/controls",
      "model_module_version": "1.5.0",
      "model_name": "HTMLModel",
      "state": {
       "layout": "IPY_MODEL_5bceed7abcb24dea9bc28eac5ffa577f",
       "style": "IPY_MODEL_7efdc92ee8b9438888e711169324c75b"
      }
     },
     "0a623a8e72524bacab6d305bd62b7e66": {
      "model_module": "@jupyter-widgets/controls",
      "model_module_version": "1.5.0",
      "model_name": "LabelModel",
      "state": {
       "layout": "IPY_MODEL_6f0df9addbc24bef800a39ab5a115f24",
       "style": "IPY_MODEL_6139d22a3f7f42568aab346570ef3fe7",
       "value": "Stage [8]: describe at Nati...java:0"
      }
     },
     "0aba0a37747a4c5b8798490583e34791": {
      "model_module": "@jupyter-widgets/base",
      "model_module_version": "1.2.0",
      "model_name": "LayoutModel",
      "state": {
       "border": "3px solid #232f3c",
       "justify_content": "space-around"
      }
     },
     "0c3e5f7a5b6c4237963625d804cab029": {
      "model_module": "@jupyter-widgets/controls",
      "model_module_version": "1.5.0",
      "model_name": "VBoxModel",
      "state": {
       "layout": "IPY_MODEL_fa1190413b134ace9f63664cd28102e5"
      }
     },
     "0c759b2f88d448f0888359f077a43f48": {
      "model_module": "@jupyter-widgets/base",
      "model_module_version": "1.2.0",
      "model_name": "LayoutModel",
      "state": {}
     },
     "0cd8f79f81994ce7bc906de9503256a2": {
      "model_module": "@jupyter-widgets/controls",
      "model_module_version": "1.5.0",
      "model_name": "ButtonModel",
      "state": {
       "button_style": "success",
       "description": "COMPLETE",
       "layout": "IPY_MODEL_a408c5ece01a4317a5fe5544d1a31e86",
       "style": "IPY_MODEL_3cfa51d08cbd43de88ba52cba528e678"
      }
     },
     "0cdd1ca12c234c1abc6ffa4a5252a401": {
      "model_module": "@jupyter-widgets/controls",
      "model_module_version": "1.5.0",
      "model_name": "DescriptionStyleModel",
      "state": {
       "description_width": ""
      }
     },
     "0d63ec9ae25d4cc98f3a034f90e93e90": {
      "model_module": "@jupyter-widgets/base",
      "model_module_version": "1.2.0",
      "model_name": "LayoutModel",
      "state": {}
     },
     "0d7d14e024914c92bfce27052dfb4887": {
      "model_module": "@jupyter-widgets/controls",
      "model_module_version": "1.5.0",
      "model_name": "AccordionModel",
      "state": {
       "_titles": {
        "0": "Spark Job Progress"
       },
       "children": [
        "IPY_MODEL_17f5e34681024b1d891e39b333c4e5a2"
       ],
       "layout": "IPY_MODEL_df3d6c6d6d17430f9042946f82c95ff5",
       "selected_index": null
      }
     },
     "0ed5df77e06a4e6fb3cf84cd5a219c6f": {
      "model_module": "@jupyter-widgets/controls",
      "model_module_version": "1.5.0",
      "model_name": "ButtonStyleModel",
      "state": {}
     },
     "0f0875d25ddd4867b29e450a0e0c2ce6": {
      "model_module": "@jupyter-widgets/controls",
      "model_module_version": "1.5.0",
      "model_name": "DescriptionStyleModel",
      "state": {
       "description_width": ""
      }
     },
     "0f24cb5e83b349c980e8247f5888eca8": {
      "model_module": "@jupyter-widgets/base",
      "model_module_version": "1.2.0",
      "model_name": "LayoutModel",
      "state": {}
     },
     "0fc952d69b774e1caf96d7532351b9eb": {
      "model_module": "@jupyter-widgets/controls",
      "model_module_version": "1.5.0",
      "model_name": "DescriptionStyleModel",
      "state": {
       "description_width": ""
      }
     },
     "100dfe7a7a664b338c3aa69b92f10e99": {
      "model_module": "@jupyter-widgets/controls",
      "model_module_version": "1.5.0",
      "model_name": "LabelModel",
      "state": {
       "layout": "IPY_MODEL_cf4e13e5fa1e4b5f9fe36ebd39793350",
       "style": "IPY_MODEL_e472fb13bb414b9ea4ce2ce0c26af3a3",
       "value": "Progress for load at NativeMethodAccessorImpl.java:0"
      }
     },
     "103d7afedf5844a9aff3a105351269e1": {
      "model_module": "@jupyter-widgets/controls",
      "model_module_version": "1.5.0",
      "model_name": "LabelModel",
      "state": {
       "layout": "IPY_MODEL_27dcff5c8976427fbb23615abb69b19a",
       "style": "IPY_MODEL_245b7886c09a4fc2b5ae2e973a82e5b8",
       "value": "Stage [5]: take at <stdin>:6"
      }
     },
     "1073cbc68e1142f8bfbd327ce848c7af": {
      "model_module": "@jupyter-widgets/controls",
      "model_module_version": "1.5.0",
      "model_name": "ProgressStyleModel",
      "state": {
       "description_width": ""
      }
     },
     "107b8971aef34d99baea20bd83e27f27": {
      "model_module": "@jupyter-widgets/controls",
      "model_module_version": "1.5.0",
      "model_name": "HBoxModel",
      "state": {
       "layout": "IPY_MODEL_69f519152b40430085e4ac34e262c851"
      }
     },
     "1256848c51b6496dbe19541a0b692139": {
      "model_module": "@jupyter-widgets/base",
      "model_module_version": "1.2.0",
      "model_name": "LayoutModel",
      "state": {
       "width": "26%"
      }
     },
     "12a62a77ad5c44e7b14f9244aadb89bb": {
      "model_module": "@jupyter-widgets/controls",
      "model_module_version": "1.5.0",
      "model_name": "ProgressStyleModel",
      "state": {
       "description_width": ""
      }
     },
     "13286a7ce5ca483cbe9c8b5838a69e05": {
      "model_module": "@jupyter-widgets/base",
      "model_module_version": "1.2.0",
      "model_name": "LayoutModel",
      "state": {}
     },
     "13411277af1641f7b31ba5f4d1b46a49": {
      "model_module": "@jupyter-widgets/controls",
      "model_module_version": "1.5.0",
      "model_name": "VBoxModel",
      "state": {
       "children": [
        "IPY_MODEL_c23806b276974965b78c8faa664d6405"
       ],
       "layout": "IPY_MODEL_de713cbc90ad497a8214d790aced3d8a"
      }
     },
     "137985cf9dfe45339a497ec86c6a93b5": {
      "model_module": "@jupyter-widgets/base",
      "model_module_version": "1.2.0",
      "model_name": "LayoutModel",
      "state": {}
     },
     "13882a13e52242d6b2b8487ed3df508e": {
      "model_module": "@jupyter-widgets/base",
      "model_module_version": "1.2.0",
      "model_name": "LayoutModel",
      "state": {
       "justify_content": "space-around",
       "width": "29%"
      }
     },
     "13c1eb2dfff54ea19f12728b895cc093": {
      "model_module": "@jupyter-widgets/base",
      "model_module_version": "1.2.0",
      "model_name": "LayoutModel",
      "state": {
       "max_height": "500px",
       "overflow_y": "scroll"
      }
     },
     "147b371e75c542a08b969754d3132021": {
      "model_module": "@jupyter-widgets/controls",
      "model_module_version": "1.5.0",
      "model_name": "HBoxModel",
      "state": {
       "layout": "IPY_MODEL_bd877ac7d56b433cb51d1710c9bcf2b3"
      }
     },
     "14ea8a9ea26947cb875cc2ae61f0d362": {
      "model_module": "@jupyter-widgets/base",
      "model_module_version": "1.2.0",
      "model_name": "LayoutModel",
      "state": {
       "width": "29%"
      }
     },
     "155e61c2781c4140b46f07630a63917d": {
      "model_module": "@jupyter-widgets/base",
      "model_module_version": "1.2.0",
      "model_name": "LayoutModel",
      "state": {
       "border": "3px solid #232f3c",
       "justify_content": "space-around"
      }
     },
     "163860ada8194f55aba9e22d1a06fc8b": {
      "model_module": "@jupyter-widgets/base",
      "model_module_version": "1.2.0",
      "model_name": "LayoutModel",
      "state": {}
     },
     "1667dd6ae58c445ebef62666a7d08d92": {
      "model_module": "@jupyter-widgets/base",
      "model_module_version": "1.2.0",
      "model_name": "LayoutModel",
      "state": {
       "width": "100%"
      }
     },
     "178d4a049eaf4c74a14766eba2aa5627": {
      "model_module": "@jupyter-widgets/controls",
      "model_module_version": "1.5.0",
      "model_name": "HBoxModel",
      "state": {
       "children": [
        "IPY_MODEL_863becdad83a45d29bfb8698b373fdea",
        "IPY_MODEL_5149b8d43e1543dfbacf25aa74d22767"
       ],
       "layout": "IPY_MODEL_beaac7700db840a4a87c58ac54778bc0"
      }
     },
     "179915589e2d42578964c8c722bfcfff": {
      "model_module": "@jupyter-widgets/base",
      "model_module_version": "1.2.0",
      "model_name": "LayoutModel",
      "state": {
       "width": "100%"
      }
     },
     "17f5e34681024b1d891e39b333c4e5a2": {
      "model_module": "@jupyter-widgets/controls",
      "model_module_version": "1.5.0",
      "model_name": "VBoxModel",
      "state": {
       "children": [
        "IPY_MODEL_f9b2cba26079443a8972823ef214c523"
       ],
       "layout": "IPY_MODEL_42d2f099a86249c08d13475516c34ac7"
      }
     },
     "199b1e3f37ae4266a02bd65fed58a90a": {
      "model_module": "@jupyter-widgets/controls",
      "model_module_version": "1.5.0",
      "model_name": "VBoxModel",
      "state": {
       "layout": "IPY_MODEL_d241d86cd45d4a3bb3622d026a3ae121"
      }
     },
     "1a09404271484b81bebf744d390fc761": {
      "model_module": "@jupyter-widgets/base",
      "model_module_version": "1.2.0",
      "model_name": "LayoutModel",
      "state": {}
     },
     "1a8021bd0cb241f8bc98035ff70fd1a3": {
      "model_module": "@jupyter-widgets/base",
      "model_module_version": "1.2.0",
      "model_name": "LayoutModel",
      "state": {
       "height": "25px",
       "width": "50%"
      }
     },
     "1a984b3547884c4ea6b1d69bfe0e48ea": {
      "model_module": "@jupyter-widgets/base",
      "model_module_version": "1.2.0",
      "model_name": "LayoutModel",
      "state": {}
     },
     "1b2bb59d9c56430f87bfd60da9445485": {
      "model_module": "@jupyter-widgets/controls",
      "model_module_version": "1.5.0",
      "model_name": "ProgressStyleModel",
      "state": {
       "description_width": ""
      }
     },
     "1bb4f85accd44494a37fe55a40973e91": {
      "model_module": "@jupyter-widgets/base",
      "model_module_version": "1.2.0",
      "model_name": "LayoutModel",
      "state": {}
     },
     "1c16cfa2d6464b9187aec5a950d53d3b": {
      "model_module": "@jupyter-widgets/controls",
      "model_module_version": "1.5.0",
      "model_name": "ButtonStyleModel",
      "state": {}
     },
     "1c685fe4962e406c8c77ebd7c700f8c9": {
      "model_module": "@jupyter-widgets/controls",
      "model_module_version": "1.5.0",
      "model_name": "AccordionModel",
      "state": {
       "_titles": {
        "0": "Spark Job Progress"
       },
       "children": [
        "IPY_MODEL_81611c76c25f448aadc81a6cdf122af0"
       ],
       "layout": "IPY_MODEL_4c2986257e6f4c3d8f51bea3e4d9682d",
       "selected_index": null
      }
     },
     "1c7808ae63ed4565986d390cbafbf958": {
      "model_module": "@jupyter-widgets/base",
      "model_module_version": "1.2.0",
      "model_name": "LayoutModel",
      "state": {
       "height": "25px",
       "width": "50%"
      }
     },
     "1d48b975249b4ea2acf31e7506386711": {
      "model_module": "@jupyter-widgets/base",
      "model_module_version": "1.2.0",
      "model_name": "LayoutModel",
      "state": {
       "width": "14%"
      }
     },
     "1d9f604b44f0445693dfd184646cf6d7": {
      "model_module": "@jupyter-widgets/controls",
      "model_module_version": "1.5.0",
      "model_name": "LabelModel",
      "state": {
       "layout": "IPY_MODEL_2cf3dbcedbd64f60a29a07ca1516d4c7",
       "style": "IPY_MODEL_39c648a5e88c4ba683df9b8bf10e4bf4",
       "value": "2.278"
      }
     },
     "1e54cba37e484f9da173d1699d3228be": {
      "model_module": "@jupyter-widgets/controls",
      "model_module_version": "1.5.0",
      "model_name": "LabelModel",
      "state": {
       "layout": "IPY_MODEL_516c38d8ff94403fb1df9a8594af2429",
       "style": "IPY_MODEL_8cf2938c2a7e4e0493fe1ed20ff4faf3",
       "value": "Progress for describe at NativeMethodAccessorImpl.java:0"
      }
     },
     "1f0b2bbdbdec4538b8e7aa8d438639dd": {
      "model_module": "@jupyter-widgets/controls",
      "model_module_version": "1.5.0",
      "model_name": "ButtonModel",
      "state": {
       "description": "Task Progress",
       "layout": "IPY_MODEL_a4cdd2635151400facac5956731b0817",
       "style": "IPY_MODEL_b4a36a3dcc7d4a86a03306955f6bc9b1"
      }
     },
     "1f193261902d412aa0a9af60257c1b08": {
      "model_module": "@jupyter-widgets/controls",
      "model_module_version": "1.5.0",
      "model_name": "ProgressStyleModel",
      "state": {
       "description_width": ""
      }
     },
     "1fb0c95cb0f44a4a800b5459efe3dbdf": {
      "model_module": "@jupyter-widgets/base",
      "model_module_version": "1.2.0",
      "model_name": "LayoutModel",
      "state": {}
     },
     "1fc4c735c3064bf7bec7ff05a83f89b2": {
      "model_module": "@jupyter-widgets/base",
      "model_module_version": "1.2.0",
      "model_name": "LayoutModel",
      "state": {}
     },
     "1fcce0c353b04882b973c03ec24b6405": {
      "model_module": "@jupyter-widgets/controls",
      "model_module_version": "1.5.0",
      "model_name": "VBoxModel",
      "state": {
       "children": [
        "IPY_MODEL_051ac99b844541dea5657e74942670e0",
        "IPY_MODEL_509af75e71b44b5f8c2c04b8c40a80c3"
       ],
       "layout": "IPY_MODEL_5236febf6c2e4457ab0e377b2ad74f7b"
      }
     },
     "204aa4ea89bc41e6b1f7a9ccddf23eec": {
      "model_module": "@jupyter-widgets/controls",
      "model_module_version": "1.5.0",
      "model_name": "HBoxModel",
      "state": {
       "children": [
        "IPY_MODEL_0cd8f79f81994ce7bc906de9503256a2"
       ],
       "layout": "IPY_MODEL_bb1de168bef84a3ba4df55b1df51e7bc"
      }
     },
     "2050e9cfaca44d1ab3613e4180dcd355": {
      "model_module": "@jupyter-widgets/controls",
      "model_module_version": "1.5.0",
      "model_name": "HBoxModel",
      "state": {
       "children": [
        "IPY_MODEL_c996f3df34104018af7c75fc9a587813"
       ],
       "layout": "IPY_MODEL_2a41faa5dffb4cfb9acff2b74af0369a"
      }
     },
     "2110bc1b814b4abd93244297ab97ae03": {
      "model_module": "@jupyter-widgets/controls",
      "model_module_version": "1.5.0",
      "model_name": "HBoxModel",
      "state": {
       "layout": "IPY_MODEL_dba40055e9ec404d9812b409cdc118fd"
      }
     },
     "2165ccd337e0466ebcf911e60393e785": {
      "model_module": "@jupyter-widgets/controls",
      "model_module_version": "1.5.0",
      "model_name": "HBoxModel",
      "state": {
       "children": [
        "IPY_MODEL_0a623a8e72524bacab6d305bd62b7e66"
       ],
       "layout": "IPY_MODEL_7ec0c8b1bf734e958477930628a8fe09"
      }
     },
     "218504e489e74b63aabaf02c961a1aff": {
      "model_module": "@jupyter-widgets/base",
      "model_module_version": "1.2.0",
      "model_name": "LayoutModel",
      "state": {
       "border": "3px solid #232f3c",
       "justify_content": "flex-start"
      }
     },
     "21addf2e35c04e8f8f3cacb552be17b1": {
      "model_module": "@jupyter-widgets/base",
      "model_module_version": "1.2.0",
      "model_name": "LayoutModel",
      "state": {}
     },
     "21c5d216706e4c0793321b739373cdb9": {
      "model_module": "@jupyter-widgets/base",
      "model_module_version": "1.2.0",
      "model_name": "LayoutModel",
      "state": {}
     },
     "2293a20b16624eeb86cbebdd3f575b0c": {
      "model_module": "@jupyter-widgets/controls",
      "model_module_version": "1.5.0",
      "model_name": "VBoxModel",
      "state": {
       "layout": "IPY_MODEL_c8026a01f0dd4e448bea2e060cdba13e"
      }
     },
     "23541706232d440bbf94bcc5dd31617b": {
      "model_module": "@jupyter-widgets/base",
      "model_module_version": "1.2.0",
      "model_name": "LayoutModel",
      "state": {}
     },
     "2413cca70a174e6096a59d37df5f8a04": {
      "model_module": "@jupyter-widgets/base",
      "model_module_version": "1.2.0",
      "model_name": "LayoutModel",
      "state": {
       "border": "3px solid #232f3c",
       "justify_content": "flex-start"
      }
     },
     "2431f5c945f748eb8cd86962c456f704": {
      "model_module": "@jupyter-widgets/controls",
      "model_module_version": "1.5.0",
      "model_name": "AccordionModel",
      "state": {
       "_titles": {
        "0": "Spark Job Progress"
       },
       "children": [
        "IPY_MODEL_68f51d19d9ae4168b0f2b07f7dc21f93"
       ],
       "layout": "IPY_MODEL_cb0da4156a5c4092ac5a8266eafef16c",
       "selected_index": null
      }
     },
     "245b7886c09a4fc2b5ae2e973a82e5b8": {
      "model_module": "@jupyter-widgets/controls",
      "model_module_version": "1.5.0",
      "model_name": "DescriptionStyleModel",
      "state": {
       "description_width": ""
      }
     },
     "24cdbf727006452b8d343d48e3f2f925": {
      "model_module": "@jupyter-widgets/base",
      "model_module_version": "1.2.0",
      "model_name": "LayoutModel",
      "state": {}
     },
     "253aa964a8c54b13aabda64ae1e6ed57": {
      "model_module": "@jupyter-widgets/base",
      "model_module_version": "1.2.0",
      "model_name": "LayoutModel",
      "state": {
       "justify_content": "space-around",
       "width": "60%"
      }
     },
     "25c1ae8638604659a60415245ff60bb6": {
      "model_module": "@jupyter-widgets/controls",
      "model_module_version": "1.5.0",
      "model_name": "ProgressStyleModel",
      "state": {
       "description_width": ""
      }
     },
     "26754152c73e4a3cadae2d49da0c3474": {
      "model_module": "@jupyter-widgets/controls",
      "model_module_version": "1.5.0",
      "model_name": "LabelModel",
      "state": {
       "layout": "IPY_MODEL_a21f72aa95124f07bbf55faf132466cc",
       "style": "IPY_MODEL_ca2d4c55152e40ea84bfc506050d585f",
       "value": "Stage [3]: load at NativeMe...java:0"
      }
     },
     "26ef038d170d4e8db0c761e7c58086d5": {
      "model_module": "@jupyter-widgets/controls",
      "model_module_version": "1.5.0",
      "model_name": "ButtonModel",
      "state": {
       "description": "Failed Task Logs",
       "layout": "IPY_MODEL_7b397a9909fb4d86bf465413de2a6f33",
       "style": "IPY_MODEL_f917827bb29f455fbbfd0920cc4cddf7"
      }
     },
     "27bf0d49271b42f8a4f39765b455d8ae": {
      "model_module": "@jupyter-widgets/controls",
      "model_module_version": "1.5.0",
      "model_name": "ButtonStyleModel",
      "state": {}
     },
     "27dcff5c8976427fbb23615abb69b19a": {
      "model_module": "@jupyter-widgets/base",
      "model_module_version": "1.2.0",
      "model_name": "LayoutModel",
      "state": {
       "width": "100%"
      }
     },
     "284abca8513e4036a24132d64229f1c7": {
      "model_module": "@jupyter-widgets/base",
      "model_module_version": "1.2.0",
      "model_name": "LayoutModel",
      "state": {
       "width": "12%"
      }
     },
     "29071f96ee1249cda50cee5d293bf29a": {
      "model_module": "@jupyter-widgets/controls",
      "model_module_version": "1.5.0",
      "model_name": "LabelModel",
      "state": {
       "layout": "IPY_MODEL_d893e5acf2324f0e978c1c0c8ecc9f70",
       "style": "IPY_MODEL_e9e053c211c44470a1e017629c7e0191",
       "value": "Job Progress: 1/1 Tasks Complete"
      }
     },
     "292e98de6d9444b1aca12b7ec0d7d61a": {
      "model_module": "@jupyter-widgets/controls",
      "model_module_version": "1.5.0",
      "model_name": "HBoxModel",
      "state": {
       "children": [
        "IPY_MODEL_afe4ae48b18f4035a5859b44a60e61b9",
        "IPY_MODEL_03ca876253d9423d9d5698be7c769867"
       ],
       "layout": "IPY_MODEL_84cf3bc8aa6540e3a1bc7f2cb9e449e6"
      }
     },
     "2a41faa5dffb4cfb9acff2b74af0369a": {
      "model_module": "@jupyter-widgets/base",
      "model_module_version": "1.2.0",
      "model_name": "LayoutModel",
      "state": {
       "justify_content": "space-around",
       "width": "29%"
      }
     },
     "2b18534cd5d647939689b8fbecb47a3c": {
      "model_module": "@jupyter-widgets/controls",
      "model_module_version": "1.5.0",
      "model_name": "ButtonStyleModel",
      "state": {}
     },
     "2be4f388ceef48799b0f71d439d22d8d": {
      "model_module": "@jupyter-widgets/controls",
      "model_module_version": "1.5.0",
      "model_name": "HBoxModel",
      "state": {
       "children": [
        "IPY_MODEL_31fc817f0ff642e0ab5228ae8183849d"
       ],
       "layout": "IPY_MODEL_a48b7d47865b47d1bb083e0d63328cd7"
      }
     },
     "2cf3dbcedbd64f60a29a07ca1516d4c7": {
      "model_module": "@jupyter-widgets/base",
      "model_module_version": "1.2.0",
      "model_name": "LayoutModel",
      "state": {
       "width": "auto"
      }
     },
     "2d2f4aba047b47938b3521d755b10a72": {
      "model_module": "@jupyter-widgets/base",
      "model_module_version": "1.2.0",
      "model_name": "LayoutModel",
      "state": {}
     },
     "2d93959f471848669c40f6393a0c90bc": {
      "model_module": "@jupyter-widgets/controls",
      "model_module_version": "1.5.0",
      "model_name": "ButtonModel",
      "state": {
       "description": "Stage [ID]: name at [source]:[line]",
       "layout": "IPY_MODEL_42025b2d5b10467787e86d4df3905727",
       "style": "IPY_MODEL_4aa2fe397f12492287b724e1ff46e777"
      }
     },
     "2e90d7b474164040b7347b247ef345b0": {
      "model_module": "@jupyter-widgets/base",
      "model_module_version": "1.2.0",
      "model_name": "LayoutModel",
      "state": {
       "border": "3px solid #232f3c",
       "justify_content": "flex-start"
      }
     },
     "2eb6423f01c148289dd37c1245ccc123": {
      "model_module": "@jupyter-widgets/controls",
      "model_module_version": "1.5.0",
      "model_name": "VBoxModel",
      "state": {
       "layout": "IPY_MODEL_c1f5c475ee324d64831ec9a06eb1ffe7"
      }
     },
     "2eb69fd4cf6540b2a63253c2b0453701": {
      "model_module": "@jupyter-widgets/base",
      "model_module_version": "1.2.0",
      "model_name": "LayoutModel",
      "state": {}
     },
     "2eeefd81377b49a89ba8c79adad05a17": {
      "model_module": "@jupyter-widgets/controls",
      "model_module_version": "1.5.0",
      "model_name": "IntProgressModel",
      "state": {
       "bar_style": "info",
       "description": "0/2",
       "layout": "IPY_MODEL_971257eb83d04d458e432684cef08693",
       "max": 2,
       "style": "IPY_MODEL_d17ce668aab24158b80096cde6bac4fd"
      }
     },
     "2f402679a4e444b1b05e34b48f37afbc": {
      "model_module": "@jupyter-widgets/controls",
      "model_module_version": "1.5.0",
      "model_name": "VBoxModel",
      "state": {
       "children": [
        "IPY_MODEL_2eb6423f01c148289dd37c1245ccc123"
       ],
       "layout": "IPY_MODEL_a15087ef6203467286b6b614d14aa430"
      }
     },
     "2fcbe4d766d543f5b4971b1ac95c0dab": {
      "model_module": "@jupyter-widgets/controls",
      "model_module_version": "1.5.0",
      "model_name": "VBoxModel",
      "state": {
       "layout": "IPY_MODEL_bf59198ecdad44fd84cf4d2deb45fb38"
      }
     },
     "2ff156bdf1004f5c8d3d0979f368b4e8": {
      "model_module": "@jupyter-widgets/base",
      "model_module_version": "1.2.0",
      "model_name": "LayoutModel",
      "state": {
       "justify_content": "space-around",
       "width": "29%"
      }
     },
     "2ff1cec8549e42a7a2da2001fedce11b": {
      "model_module": "@jupyter-widgets/base",
      "model_module_version": "1.2.0",
      "model_name": "LayoutModel",
      "state": {
       "width": "60%"
      }
     },
     "3024309eaf3444a487efbd418cb7d5b0": {
      "model_module": "@jupyter-widgets/base",
      "model_module_version": "1.2.0",
      "model_name": "LayoutModel",
      "state": {}
     },
     "31fc817f0ff642e0ab5228ae8183849d": {
      "model_module": "@jupyter-widgets/controls",
      "model_module_version": "1.5.0",
      "model_name": "IntProgressModel",
      "state": {
       "bar_style": "success",
       "description": "2/2",
       "layout": "IPY_MODEL_391d1c60dfaa4c4b990f16d4c48eaacf",
       "max": 2,
       "style": "IPY_MODEL_90ae6ad55bb54d81bdb2799ea6d2df44",
       "value": 2
      }
     },
     "321e4fa3c125431c9bbcdd599a8f199f": {
      "model_module": "@jupyter-widgets/controls",
      "model_module_version": "1.5.0",
      "model_name": "HBoxModel",
      "state": {
       "children": [
        "IPY_MODEL_f4c358951778440081b1666f11c874c2"
       ],
       "layout": "IPY_MODEL_b9a82bf05ee640ab8f6ad071ca5073ac"
      }
     },
     "32356226f4ef455ba64ec882417dc94b": {
      "model_module": "@jupyter-widgets/base",
      "model_module_version": "1.2.0",
      "model_name": "LayoutModel",
      "state": {
       "width": "19%"
      }
     },
     "330967167a4e489799b1141132c39b65": {
      "model_module": "@jupyter-widgets/controls",
      "model_module_version": "1.5.0",
      "model_name": "VBoxModel",
      "state": {
       "layout": "IPY_MODEL_a7a1947a3b2540c9a99d0904740c4c53"
      }
     },
     "33abb78c8d7d4887908c2b76bb6d0794": {
      "model_module": "@jupyter-widgets/controls",
      "model_module_version": "1.5.0",
      "model_name": "HBoxModel",
      "state": {
       "layout": "IPY_MODEL_b4fa856885c34ea69abadba372b77a66"
      }
     },
     "34b0b06e39a748f4afbcfc818d278175": {
      "model_module": "@jupyter-widgets/controls",
      "model_module_version": "1.5.0",
      "model_name": "HBoxModel",
      "state": {
       "children": [
        "IPY_MODEL_100dfe7a7a664b338c3aa69b92f10e99",
        "IPY_MODEL_a71b462b0c1e4f6b8552b4da185a3c8c"
       ],
       "layout": "IPY_MODEL_c1acbf80de694772a32c8277b75a436b"
      }
     },
     "34f4c8aa819b44bc8b78f351ec34308b": {
      "model_module": "@jupyter-widgets/base",
      "model_module_version": "1.2.0",
      "model_name": "LayoutModel",
      "state": {
       "justify_content": "space-around",
       "width": "19%"
      }
     },
     "35eaff010d31401ab4a34e4716cd3b57": {
      "model_module": "@jupyter-widgets/controls",
      "model_module_version": "1.5.0",
      "model_name": "HBoxModel",
      "state": {
       "children": [
        "IPY_MODEL_9365606516754d68b021bff282dab9c3",
        "IPY_MODEL_7bdd0f473bff40c8ad66954731378055",
        "IPY_MODEL_79ec93800eee40118fd9540753914810",
        "IPY_MODEL_4707487107964ee3b413bf6d21830a6d",
        "IPY_MODEL_cdb458e49bf840df86ba2e01aaaa4a72"
       ],
       "layout": "IPY_MODEL_8ab9cd17d314462294283db932f42183"
      }
     },
     "371236dbdaf2445d97a2acd8bba40678": {
      "model_module": "@jupyter-widgets/base",
      "model_module_version": "1.2.0",
      "model_name": "LayoutModel",
      "state": {}
     },
     "37447e34432c45299ae06273f4638a0a": {
      "model_module": "@jupyter-widgets/base",
      "model_module_version": "1.2.0",
      "model_name": "LayoutModel",
      "state": {
       "justify_content": "space-around",
       "width": "26%"
      }
     },
     "3777c916902f48308789d5af0b28b0af": {
      "model_module": "@jupyter-widgets/base",
      "model_module_version": "1.2.0",
      "model_name": "LayoutModel",
      "state": {
       "border": "3px solid #232f3c",
       "justify_content": "flex-start"
      }
     },
     "382f3e0536354ecabbffb4895fb1ef18": {
      "model_module": "@jupyter-widgets/base",
      "model_module_version": "1.2.0",
      "model_name": "LayoutModel",
      "state": {
       "width": "100%"
      }
     },
     "387679a366dd4891be8642a757b5a436": {
      "model_module": "@jupyter-widgets/controls",
      "model_module_version": "1.5.0",
      "model_name": "HBoxModel",
      "state": {
       "children": [
        "IPY_MODEL_687e3a09aa50438aab61433dbef976f9",
        "IPY_MODEL_fe0ce15137c54f549f7950c21a95cdce",
        "IPY_MODEL_8e64f6e0de5b4b1b8f31d630d5903230",
        "IPY_MODEL_40867a09826e41859a3bc57d1552372e",
        "IPY_MODEL_826faf125d5948689f833c5d3737e011"
       ],
       "layout": "IPY_MODEL_2413cca70a174e6096a59d37df5f8a04"
      }
     },
     "388d96253195455c9d65f2f0cb0b0bbb": {
      "model_module": "@jupyter-widgets/controls",
      "model_module_version": "1.5.0",
      "model_name": "ButtonModel",
      "state": {
       "button_style": "success",
       "description": "COMPLETE",
       "layout": "IPY_MODEL_eb990fd9b7ce44cbab037d2c5603fdbd",
       "style": "IPY_MODEL_3bb4af8966954f95bf26bd1d04c02f9e"
      }
     },
     "391d1c60dfaa4c4b990f16d4c48eaacf": {
      "model_module": "@jupyter-widgets/base",
      "model_module_version": "1.2.0",
      "model_name": "LayoutModel",
      "state": {}
     },
     "3929c84cf0504c7d92689f951a8c984e": {
      "model_module": "@jupyter-widgets/controls",
      "model_module_version": "1.5.0",
      "model_name": "HBoxModel",
      "state": {
       "children": [
        "IPY_MODEL_73ca88f8478c4f878b9d82a977d38663"
       ],
       "layout": "IPY_MODEL_f4ca1dd5d9a448a3af0111cce5d02625"
      }
     },
     "3944c1b2524c4abd97ad44c52d129068": {
      "model_module": "@jupyter-widgets/controls",
      "model_module_version": "1.5.0",
      "model_name": "VBoxModel",
      "state": {
       "layout": "IPY_MODEL_77efb007e58a4ad582abcdeac76cb8de"
      }
     },
     "39a29eda61b84f05bd6c3dcdb48b003a": {
      "model_module": "@jupyter-widgets/base",
      "model_module_version": "1.2.0",
      "model_name": "LayoutModel",
      "state": {
       "width": "100%"
      }
     },
     "39c648a5e88c4ba683df9b8bf10e4bf4": {
      "model_module": "@jupyter-widgets/controls",
      "model_module_version": "1.5.0",
      "model_name": "DescriptionStyleModel",
      "state": {
       "description_width": ""
      }
     },
     "3b7257e120f74dd0b875b8dfaec00551": {
      "model_module": "@jupyter-widgets/controls",
      "model_module_version": "1.5.0",
      "model_name": "ButtonStyleModel",
      "state": {}
     },
     "3bb4af8966954f95bf26bd1d04c02f9e": {
      "model_module": "@jupyter-widgets/controls",
      "model_module_version": "1.5.0",
      "model_name": "ButtonStyleModel",
      "state": {}
     },
     "3c14d60808f349699e9a5f8fbce25f27": {
      "model_module": "@jupyter-widgets/controls",
      "model_module_version": "1.5.0",
      "model_name": "DescriptionStyleModel",
      "state": {
       "description_width": ""
      }
     },
     "3c267a93469643f8b7c92a0e85c8d57a": {
      "model_module": "@jupyter-widgets/controls",
      "model_module_version": "1.5.0",
      "model_name": "VBoxModel",
      "state": {
       "children": [
        "IPY_MODEL_8c511a1f466f46f3b0309cb97041a1d9"
       ],
       "layout": "IPY_MODEL_bcf2b4aa71144ff58a30b324057de404"
      }
     },
     "3c77321eb81a4e56bcb3ae02005d6b5b": {
      "model_module": "@jupyter-widgets/base",
      "model_module_version": "1.2.0",
      "model_name": "LayoutModel",
      "state": {
       "width": "auto"
      }
     },
     "3cfa51d08cbd43de88ba52cba528e678": {
      "model_module": "@jupyter-widgets/controls",
      "model_module_version": "1.5.0",
      "model_name": "ButtonStyleModel",
      "state": {}
     },
     "3d97346722864b7bbdeb76a398df1063": {
      "model_module": "@jupyter-widgets/controls",
      "model_module_version": "1.5.0",
      "model_name": "HBoxModel",
      "state": {
       "children": [
        "IPY_MODEL_2d93959f471848669c40f6393a0c90bc",
        "IPY_MODEL_486b21bc989b440a92a8a25ab919eb41",
        "IPY_MODEL_dcac8dacb5f24e69b05bb21f34d8caf0",
        "IPY_MODEL_55c2e73622274527b294404bfe61ddd8",
        "IPY_MODEL_486f41fa302f487e8571abd2942115b0"
       ],
       "layout": "IPY_MODEL_2e90d7b474164040b7347b247ef345b0"
      }
     },
     "3e52232559d6420c873656f30f1e4866": {
      "model_module": "@jupyter-widgets/controls",
      "model_module_version": "1.5.0",
      "model_name": "HTMLModel",
      "state": {
       "layout": "IPY_MODEL_6570fe547fb148f881295eb28f360b90",
       "style": "IPY_MODEL_a2a69fb027144fbd8dda30c243a80b11",
       "value": "<emr-proxy-link application-id=\"application_1617185228881_0002\" emr-resource=\"j-2DCT800RO36JC\n\" job=\"3\"/>"
      }
     },
     "3e6d2ec5f5154c2f848ba5edf300d167": {
      "model_module": "@jupyter-widgets/controls",
      "model_module_version": "1.5.0",
      "model_name": "HTMLModel",
      "state": {
       "layout": "IPY_MODEL_c14a86456f1f4cf89ee9b76a7d056b50",
       "style": "IPY_MODEL_9b811e09222e45d1aa11f5f506e80521"
      }
     },
     "3efcac8b048a4d99bc2260e52e93e723": {
      "model_module": "@jupyter-widgets/base",
      "model_module_version": "1.2.0",
      "model_name": "LayoutModel",
      "state": {}
     },
     "40547eef4a634441ad434dc19a1bcebd": {
      "model_module": "@jupyter-widgets/controls",
      "model_module_version": "1.5.0",
      "model_name": "VBoxModel",
      "state": {
       "children": [
        "IPY_MODEL_199b1e3f37ae4266a02bd65fed58a90a"
       ],
       "layout": "IPY_MODEL_eec87419bbdf4437a628cca1d713d4f8"
      }
     },
     "40867a09826e41859a3bc57d1552372e": {
      "model_module": "@jupyter-widgets/controls",
      "model_module_version": "1.5.0",
      "model_name": "ButtonModel",
      "state": {
       "description": "Elapsed Time (seconds)",
       "layout": "IPY_MODEL_9d66a665c39e4e89950ce0546dab3a08",
       "style": "IPY_MODEL_04f62da34f6d4d9e81c18ebaffa2b4ce"
      }
     },
     "40e3728da35547a3a44686adb5f03370": {
      "model_module": "@jupyter-widgets/base",
      "model_module_version": "1.2.0",
      "model_name": "LayoutModel",
      "state": {}
     },
     "411be17722424fa8b9cf0b90323d3c57": {
      "model_module": "@jupyter-widgets/controls",
      "model_module_version": "1.5.0",
      "model_name": "VBoxModel",
      "state": {
       "children": [
        "IPY_MODEL_d3ecb3d74c62452fb50a719c0c017b45",
        "IPY_MODEL_ea84fc12778547edb4511a6ec04aeb66",
        "IPY_MODEL_cbf61ac054954ea1afb966ffdd114d53"
       ],
       "layout": "IPY_MODEL_6b0247e022554072aaf6e2aa5e4ff8a2"
      }
     },
     "41b36b75cedb4ab6beeb6273267cc65a": {
      "model_module": "@jupyter-widgets/controls",
      "model_module_version": "1.5.0",
      "model_name": "IntProgressModel",
      "state": {
       "bar_style": "success",
       "description": "1/1",
       "layout": "IPY_MODEL_b785d4031e894a46b0273d9ce1a7d2a8",
       "max": 1,
       "style": "IPY_MODEL_c01d7aab2b2644a08c5029051e4299d0",
       "value": 1
      }
     },
     "41d309315cbf4e878ee2b5d7d9831258": {
      "model_module": "@jupyter-widgets/base",
      "model_module_version": "1.2.0",
      "model_name": "LayoutModel",
      "state": {
       "border": "3px solid #5d6d7e"
      }
     },
     "42025b2d5b10467787e86d4df3905727": {
      "model_module": "@jupyter-widgets/base",
      "model_module_version": "1.2.0",
      "model_name": "LayoutModel",
      "state": {
       "width": "26%"
      }
     },
     "42417020019644a08775ac3fc4736568": {
      "model_module": "@jupyter-widgets/controls",
      "model_module_version": "1.5.0",
      "model_name": "HTMLModel",
      "state": {
       "layout": "IPY_MODEL_8cc29cdc496046079082e4428ef3662d",
       "style": "IPY_MODEL_ee7be47c9b8e44f89215226ecf8c6a1f"
      }
     },
     "42d2f099a86249c08d13475516c34ac7": {
      "model_module": "@jupyter-widgets/base",
      "model_module_version": "1.2.0",
      "model_name": "LayoutModel",
      "state": {}
     },
     "437af46e319540b088a651fe3448681a": {
      "model_module": "@jupyter-widgets/controls",
      "model_module_version": "1.5.0",
      "model_name": "ButtonStyleModel",
      "state": {}
     },
     "44f333721b584ee5a230737ca6f29b3d": {
      "model_module": "@jupyter-widgets/base",
      "model_module_version": "1.2.0",
      "model_name": "LayoutModel",
      "state": {}
     },
     "45a97c672a954b73bda4472ece06efca": {
      "model_module": "@jupyter-widgets/base",
      "model_module_version": "1.2.0",
      "model_name": "LayoutModel",
      "state": {
       "width": "40%"
      }
     },
     "45c4b90a4f794e908d6bdec1292587f4": {
      "model_module": "@jupyter-widgets/controls",
      "model_module_version": "1.5.0",
      "model_name": "HTMLModel",
      "state": {
       "layout": "IPY_MODEL_b0c7ea27387f468ba3ff837e98f0aa82",
       "style": "IPY_MODEL_56e93811822a4f7f9664ba8b9cde0bef",
       "value": "<emr-proxy-link application-id=\"application_1617185228881_0002\" emr-resource=\"j-2DCT800RO36JC\n\" job=\"6\"/>"
      }
     },
     "4707487107964ee3b413bf6d21830a6d": {
      "model_module": "@jupyter-widgets/controls",
      "model_module_version": "1.5.0",
      "model_name": "HBoxModel",
      "state": {
       "children": [
        "IPY_MODEL_1d9f604b44f0445693dfd184646cf6d7"
       ],
       "layout": "IPY_MODEL_af76685e136247ce98fed57e80cf5d1b"
      }
     },
     "4714f3a3ebf14b11b7c7b0d42f83aa2e": {
      "model_module": "@jupyter-widgets/controls",
      "model_module_version": "1.5.0",
      "model_name": "VBoxModel",
      "state": {
       "layout": "IPY_MODEL_9ad47adfeebd4b8eafe982662980e1d3"
      }
     },
     "471c1d480ff4496db1bf849f4b9866f1": {
      "model_module": "@jupyter-widgets/base",
      "model_module_version": "1.2.0",
      "model_name": "LayoutModel",
      "state": {
       "height": "25px",
       "width": "50%"
      }
     },
     "472e2ef9b44e4d178d08a04184db52f0": {
      "model_module": "@jupyter-widgets/controls",
      "model_module_version": "1.5.0",
      "model_name": "ProgressStyleModel",
      "state": {
       "description_width": ""
      }
     },
     "4781a4eb552347f58a056ef2c232e541": {
      "model_module": "@jupyter-widgets/base",
      "model_module_version": "1.2.0",
      "model_name": "LayoutModel",
      "state": {
       "border": "3px solid #5d6d7e",
       "justify_content": "flex-start",
       "min_height": "40px"
      }
     },
     "47eaa515d0c94546a9d729ddd743be47": {
      "model_module": "@jupyter-widgets/controls",
      "model_module_version": "1.5.0",
      "model_name": "VBoxModel",
      "state": {
       "children": [
        "IPY_MODEL_9adf93307af3440aac84d98da960f826"
       ],
       "layout": "IPY_MODEL_a2a98efe259847d685caa14aeb01ed9f"
      }
     },
     "482949c4379c469aa4a1530ba06b917c": {
      "model_module": "@jupyter-widgets/controls",
      "model_module_version": "1.5.0",
      "model_name": "ProgressStyleModel",
      "state": {
       "description_width": ""
      }
     },
     "486b21bc989b440a92a8a25ab919eb41": {
      "model_module": "@jupyter-widgets/controls",
      "model_module_version": "1.5.0",
      "model_name": "ButtonModel",
      "state": {
       "description": "Status",
       "layout": "IPY_MODEL_49a7d1c04abd458ab6e64b06f5e4f19d",
       "style": "IPY_MODEL_2b18534cd5d647939689b8fbecb47a3c"
      }
     },
     "486f41fa302f487e8571abd2942115b0": {
      "model_module": "@jupyter-widgets/controls",
      "model_module_version": "1.5.0",
      "model_name": "ButtonModel",
      "state": {
       "description": "Failed Task Logs",
       "layout": "IPY_MODEL_1d48b975249b4ea2acf31e7506386711",
       "style": "IPY_MODEL_ce502d26acca492491c0f5f11e643888"
      }
     },
     "49a7d1c04abd458ab6e64b06f5e4f19d": {
      "model_module": "@jupyter-widgets/base",
      "model_module_version": "1.2.0",
      "model_name": "LayoutModel",
      "state": {
       "width": "12%"
      }
     },
     "49ebebdd549e42da96b473831ce13f33": {
      "model_module": "@jupyter-widgets/controls",
      "model_module_version": "1.5.0",
      "model_name": "ProgressStyleModel",
      "state": {
       "description_width": ""
      }
     },
     "49fad09c25fa4443ba4898267bce77b0": {
      "model_module": "@jupyter-widgets/controls",
      "model_module_version": "1.5.0",
      "model_name": "HTMLModel",
      "state": {
       "layout": "IPY_MODEL_b708dd29e65841dba1cdd06c30483e0b",
       "style": "IPY_MODEL_ca25e3dca66c4d538332c55e87e8d3f3",
       "value": "<emr-proxy-link application-id=\"application_1617185228881_0002\" emr-resource=\"j-2DCT800RO36JC\n\" job=\"7\"/>"
      }
     },
     "4a0b99244a4a4af887c1e528a7c2dda0": {
      "model_module": "@jupyter-widgets/controls",
      "model_module_version": "1.5.0",
      "model_name": "HBoxModel",
      "state": {
       "children": [
        "IPY_MODEL_dd939156a2c14128a13ba5e67edcf8ed"
       ],
       "layout": "IPY_MODEL_cd0a85be74404cd8860b986d431092e5"
      }
     },
     "4aa2fe397f12492287b724e1ff46e777": {
      "model_module": "@jupyter-widgets/controls",
      "model_module_version": "1.5.0",
      "model_name": "ButtonStyleModel",
      "state": {}
     },
     "4b04de19951a4d60a435b5b4330d6b3b": {
      "model_module": "@jupyter-widgets/controls",
      "model_module_version": "1.5.0",
      "model_name": "HBoxModel",
      "state": {
       "children": [
        "IPY_MODEL_7f08c4ae9d764e53a5e17dff91b26e60"
       ],
       "layout": "IPY_MODEL_95059d1dafc24bc18ce203d00b0097b7"
      }
     },
     "4b7efb9b21f64c5184fd8c9e1613768f": {
      "model_module": "@jupyter-widgets/controls",
      "model_module_version": "1.5.0",
      "model_name": "ProgressStyleModel",
      "state": {
       "description_width": ""
      }
     },
     "4bd6f0df4b3f4de6a390914d0b8caf49": {
      "model_module": "@jupyter-widgets/base",
      "model_module_version": "1.2.0",
      "model_name": "LayoutModel",
      "state": {
       "max_height": "500px",
       "overflow_y": "scroll"
      }
     },
     "4c2986257e6f4c3d8f51bea3e4d9682d": {
      "model_module": "@jupyter-widgets/base",
      "model_module_version": "1.2.0",
      "model_name": "LayoutModel",
      "state": {}
     },
     "4e2044ddc0364cdaa41a99755965cfd9": {
      "model_module": "@jupyter-widgets/controls",
      "model_module_version": "1.5.0",
      "model_name": "ButtonStyleModel",
      "state": {}
     },
     "4fffdb2a60fb470e91adbce081a9b35d": {
      "model_module": "@jupyter-widgets/base",
      "model_module_version": "1.2.0",
      "model_name": "LayoutModel",
      "state": {
       "justify_content": "space-around",
       "width": "60%"
      }
     },
     "509af75e71b44b5f8c2c04b8c40a80c3": {
      "model_module": "@jupyter-widgets/controls",
      "model_module_version": "1.5.0",
      "model_name": "HBoxModel",
      "state": {
       "children": [
        "IPY_MODEL_2165ccd337e0466ebcf911e60393e785",
        "IPY_MODEL_fcae118fa98c4c569e36b3ed3f665df7",
        "IPY_MODEL_b39328a702d6450f848b178dfbf466f4",
        "IPY_MODEL_7acb4f3ed51b47ecade7bfd61bba539b",
        "IPY_MODEL_afcf489ff87e43348c077961e89e6c97"
       ],
       "layout": "IPY_MODEL_5b001302cf31431188d9c43c6413894f"
      }
     },
     "50b01ff7fc924aa98bd270786f395e6c": {
      "model_module": "@jupyter-widgets/base",
      "model_module_version": "1.2.0",
      "model_name": "LayoutModel",
      "state": {}
     },
     "511153c3d82a4809a2ff1d01593eff82": {
      "model_module": "@jupyter-widgets/controls",
      "model_module_version": "1.5.0",
      "model_name": "ButtonStyleModel",
      "state": {}
     },
     "5149b8d43e1543dfbacf25aa74d22767": {
      "model_module": "@jupyter-widgets/controls",
      "model_module_version": "1.5.0",
      "model_name": "IntProgressModel",
      "state": {
       "bar_style": "success",
       "layout": "IPY_MODEL_8d5a701743f64605b2338c25f6c56a4d",
       "max": 1,
       "style": "IPY_MODEL_8fc02329e8e14c548056f66745d93a19",
       "value": 1
      }
     },
     "5154d978eb7d4119bf25e5f8abf1435c": {
      "model_module": "@jupyter-widgets/base",
      "model_module_version": "1.2.0",
      "model_name": "LayoutModel",
      "state": {
       "justify_content": "space-around",
       "width": "60%"
      }
     },
     "516c38d8ff94403fb1df9a8594af2429": {
      "model_module": "@jupyter-widgets/base",
      "model_module_version": "1.2.0",
      "model_name": "LayoutModel",
      "state": {}
     },
     "5236febf6c2e4457ab0e377b2ad74f7b": {
      "model_module": "@jupyter-widgets/base",
      "model_module_version": "1.2.0",
      "model_name": "LayoutModel",
      "state": {
       "max_height": "200px",
       "overflow_y": "scroll"
      }
     },
     "5291a795ac324fea85eea7feac92756e": {
      "model_module": "@jupyter-widgets/controls",
      "model_module_version": "1.5.0",
      "model_name": "DescriptionStyleModel",
      "state": {
       "description_width": ""
      }
     },
     "5304ded39ce24b2aad3f0916a9c0195e": {
      "model_module": "@jupyter-widgets/base",
      "model_module_version": "1.2.0",
      "model_name": "LayoutModel",
      "state": {}
     },
     "546da8cba4054afd8e772a3fcc010f5a": {
      "model_module": "@jupyter-widgets/base",
      "model_module_version": "1.2.0",
      "model_name": "LayoutModel",
      "state": {}
     },
     "552885eb2f2e44828faffe3f8109a88a": {
      "model_module": "@jupyter-widgets/controls",
      "model_module_version": "1.5.0",
      "model_name": "HTMLModel",
      "state": {
       "layout": "IPY_MODEL_6fb1e18877b9442fb44c2bae3bfb2411",
       "style": "IPY_MODEL_0cdd1ca12c234c1abc6ffa4a5252a401"
      }
     },
     "55c2e73622274527b294404bfe61ddd8": {
      "model_module": "@jupyter-widgets/controls",
      "model_module_version": "1.5.0",
      "model_name": "ButtonModel",
      "state": {
       "description": "Elapsed Time (seconds)",
       "layout": "IPY_MODEL_32356226f4ef455ba64ec882417dc94b",
       "style": "IPY_MODEL_012878eb9aab4c478c3ceb94b6211e7e"
      }
     },
     "5621517254394f178d13cc6c8ba3df28": {
      "model_module": "@jupyter-widgets/controls",
      "model_module_version": "1.5.0",
      "model_name": "VBoxModel",
      "state": {
       "children": [
        "IPY_MODEL_3e52232559d6420c873656f30f1e4866",
        "IPY_MODEL_34b0b06e39a748f4afbcfc818d278175",
        "IPY_MODEL_bc755738eb6c40608ee413f50e804d9b",
        "IPY_MODEL_da2078a82f1e4fe3921a59a73b54bca2",
        "IPY_MODEL_e6f6a79e1bc948419e72b16bd28b46d9"
       ],
       "layout": "IPY_MODEL_137985cf9dfe45339a497ec86c6a93b5"
      }
     },
     "56557e740d434439bfd2f884a5ce5bf8": {
      "model_module": "@jupyter-widgets/base",
      "model_module_version": "1.2.0",
      "model_name": "LayoutModel",
      "state": {}
     },
     "56e93811822a4f7f9664ba8b9cde0bef": {
      "model_module": "@jupyter-widgets/controls",
      "model_module_version": "1.5.0",
      "model_name": "DescriptionStyleModel",
      "state": {
       "description_width": ""
      }
     },
     "56faca4b19964698917431dc4d037320": {
      "model_module": "@jupyter-widgets/base",
      "model_module_version": "1.2.0",
      "model_name": "LayoutModel",
      "state": {
       "max_height": "200px",
       "overflow_y": "scroll"
      }
     },
     "57d123cfd2054f8dab6fd719608528b2": {
      "model_module": "@jupyter-widgets/base",
      "model_module_version": "1.2.0",
      "model_name": "LayoutModel",
      "state": {
       "height": "25px",
       "width": "50%"
      }
     },
     "583935cf30da4550bc492b1c6515266b": {
      "model_module": "@jupyter-widgets/base",
      "model_module_version": "1.2.0",
      "model_name": "LayoutModel",
      "state": {
       "height": "25px",
       "width": "50%"
      }
     },
     "5855d985e2794cabade3067361aade8b": {
      "model_module": "@jupyter-widgets/base",
      "model_module_version": "1.2.0",
      "model_name": "LayoutModel",
      "state": {
       "justify_content": "space-around",
       "width": "26%"
      }
     },
     "58756375c32244ceb7a29038f74c61cb": {
      "model_module": "@jupyter-widgets/base",
      "model_module_version": "1.2.0",
      "model_name": "LayoutModel",
      "state": {
       "width": "26%"
      }
     },
     "593aa5a81a6b4cfcba6c042cd598602a": {
      "model_module": "@jupyter-widgets/controls",
      "model_module_version": "1.5.0",
      "model_name": "ButtonModel",
      "state": {
       "description": "Stage [ID]: name at [source]:[line]",
       "layout": "IPY_MODEL_58756375c32244ceb7a29038f74c61cb",
       "style": "IPY_MODEL_aa1aec245918477d83bf98612a6e3728"
      }
     },
     "5a555c8f5fdd48d0888f1146e91697ac": {
      "model_module": "@jupyter-widgets/controls",
      "model_module_version": "1.5.0",
      "model_name": "ProgressStyleModel",
      "state": {
       "description_width": ""
      }
     },
     "5ab8517f5c174706a2286dfd853100dc": {
      "model_module": "@jupyter-widgets/base",
      "model_module_version": "1.2.0",
      "model_name": "LayoutModel",
      "state": {
       "justify_content": "space-around",
       "width": "14%"
      }
     },
     "5ae3c481eb6542a6a53f6a38ab273dac": {
      "model_module": "@jupyter-widgets/base",
      "model_module_version": "1.2.0",
      "model_name": "LayoutModel",
      "state": {
       "width": "40%"
      }
     },
     "5b001302cf31431188d9c43c6413894f": {
      "model_module": "@jupyter-widgets/base",
      "model_module_version": "1.2.0",
      "model_name": "LayoutModel",
      "state": {
       "border": "3px solid #232f3c",
       "justify_content": "flex-start",
       "min_height": "40px"
      }
     },
     "5b9b82732a2b4889b839097019908bde": {
      "model_module": "@jupyter-widgets/controls",
      "model_module_version": "1.5.0",
      "model_name": "ButtonStyleModel",
      "state": {
       "button_color": "#d6d6d6"
      }
     },
     "5bceed7abcb24dea9bc28eac5ffa577f": {
      "model_module": "@jupyter-widgets/base",
      "model_module_version": "1.2.0",
      "model_name": "LayoutModel",
      "state": {
       "width": "auto"
      }
     },
     "5c44449ac0014f9798842376594cb112": {
      "model_module": "@jupyter-widgets/controls",
      "model_module_version": "1.5.0",
      "model_name": "IntProgressModel",
      "state": {
       "bar_style": "success",
       "layout": "IPY_MODEL_614f7af9d3444991ab2a136be1fd820c",
       "max": 1,
       "style": "IPY_MODEL_c09f653fc8f943a69ff8028802e5d83c",
       "value": 1
      }
     },
     "5cf9c2c2edfb4509988f870a312901b0": {
      "model_module": "@jupyter-widgets/base",
      "model_module_version": "1.2.0",
      "model_name": "LayoutModel",
      "state": {}
     },
     "5dce076584684d679d4888e74a6a7279": {
      "model_module": "@jupyter-widgets/base",
      "model_module_version": "1.2.0",
      "model_name": "LayoutModel",
      "state": {}
     },
     "5e104dbdd176494ea34cd8fe8729ea21": {
      "model_module": "@jupyter-widgets/base",
      "model_module_version": "1.2.0",
      "model_name": "LayoutModel",
      "state": {}
     },
     "5e7eb5e705554a01a96f70285f803daf": {
      "model_module": "@jupyter-widgets/controls",
      "model_module_version": "1.5.0",
      "model_name": "ButtonStyleModel",
      "state": {}
     },
     "5ef375ba4cf84680b43046035c2c5246": {
      "model_module": "@jupyter-widgets/base",
      "model_module_version": "1.2.0",
      "model_name": "LayoutModel",
      "state": {
       "max_height": "200px",
       "overflow_y": "scroll"
      }
     },
     "60f302c9cc42459b98ffbd1bba8b01fb": {
      "model_module": "@jupyter-widgets/controls",
      "model_module_version": "1.5.0",
      "model_name": "ButtonModel",
      "state": {
       "button_style": "success",
       "description": "COMPLETE",
       "layout": "IPY_MODEL_c2179379d4474ece975037f85f5c6847",
       "style": "IPY_MODEL_bf4f358594074a06a45da398166e4708"
      }
     },
     "6139d22a3f7f42568aab346570ef3fe7": {
      "model_module": "@jupyter-widgets/controls",
      "model_module_version": "1.5.0",
      "model_name": "DescriptionStyleModel",
      "state": {
       "description_width": ""
      }
     },
     "614f7af9d3444991ab2a136be1fd820c": {
      "model_module": "@jupyter-widgets/base",
      "model_module_version": "1.2.0",
      "model_name": "LayoutModel",
      "state": {
       "width": "60%"
      }
     },
     "6162da7f25ba4d0c895321304faeceb8": {
      "model_module": "@jupyter-widgets/controls",
      "model_module_version": "1.5.0",
      "model_name": "ButtonModel",
      "state": {
       "description": "Failed Task Logs",
       "layout": "IPY_MODEL_cb8f2784427c45848722f26365380e9b",
       "style": "IPY_MODEL_511153c3d82a4809a2ff1d01593eff82"
      }
     },
     "61c234f829af435b888e2f33eba7453b": {
      "model_module": "@jupyter-widgets/base",
      "model_module_version": "1.2.0",
      "model_name": "LayoutModel",
      "state": {
       "justify_content": "space-around",
       "width": "29%"
      }
     },
     "6248fa671f984a098accdae8eef2af94": {
      "model_module": "@jupyter-widgets/controls",
      "model_module_version": "1.5.0",
      "model_name": "ProgressStyleModel",
      "state": {
       "description_width": ""
      }
     },
     "62e1801b41704b8fb0fa32c2804e5838": {
      "model_module": "@jupyter-widgets/base",
      "model_module_version": "1.2.0",
      "model_name": "LayoutModel",
      "state": {
       "height": "25px",
       "width": "50%"
      }
     },
     "63569457907d4aedb153e88810a20a6a": {
      "model_module": "@jupyter-widgets/base",
      "model_module_version": "1.2.0",
      "model_name": "LayoutModel",
      "state": {
       "border": "3px solid #5d6d7e",
       "justify_content": "flex-start",
       "min_height": "40px"
      }
     },
     "6430e3a730b24ed6bbe3bf08127fd54a": {
      "model_module": "@jupyter-widgets/base",
      "model_module_version": "1.2.0",
      "model_name": "LayoutModel",
      "state": {}
     },
     "6435aa7935b340cbb3d7ef2ae7a7252b": {
      "model_module": "@jupyter-widgets/controls",
      "model_module_version": "1.5.0",
      "model_name": "ButtonStyleModel",
      "state": {}
     },
     "650384e88cf74c6bade88528581259e3": {
      "model_module": "@jupyter-widgets/controls",
      "model_module_version": "1.5.0",
      "model_name": "VBoxModel",
      "state": {
       "children": [
        "IPY_MODEL_9c98b4ec4684433b85cac1ef7cf1a836"
       ],
       "layout": "IPY_MODEL_8b7bd6c3f67840838cf3cd156184daec"
      }
     },
     "650a47024b924d0384209ec92bfadad8": {
      "model_module": "@jupyter-widgets/controls",
      "model_module_version": "1.5.0",
      "model_name": "ProgressStyleModel",
      "state": {
       "description_width": ""
      }
     },
     "6541e3994f36440d980be7f12e247c8a": {
      "model_module": "@jupyter-widgets/controls",
      "model_module_version": "1.5.0",
      "model_name": "DescriptionStyleModel",
      "state": {
       "description_width": ""
      }
     },
     "6570fe547fb148f881295eb28f360b90": {
      "model_module": "@jupyter-widgets/base",
      "model_module_version": "1.2.0",
      "model_name": "LayoutModel",
      "state": {}
     },
     "658231ece2b245ef95c02baaf525b2ef": {
      "model_module": "@jupyter-widgets/controls",
      "model_module_version": "1.5.0",
      "model_name": "AccordionModel",
      "state": {
       "_titles": {
        "0": "Spark Job Progress"
       },
       "children": [
        "IPY_MODEL_40547eef4a634441ad434dc19a1bcebd"
       ],
       "layout": "IPY_MODEL_56557e740d434439bfd2f884a5ce5bf8",
       "selected_index": null
      }
     },
     "66a4a8695bd8425db78ae8a0491dd6d1": {
      "model_module": "@jupyter-widgets/controls",
      "model_module_version": "1.5.0",
      "model_name": "AccordionModel",
      "state": {
       "_dom_classes": [
        "emr-spark-monitoring-job-accordion"
       ],
       "_titles": {
        "0": "Job [7]: describe at NativeMethodAccessorImpl.java:0"
       },
       "children": [
        "IPY_MODEL_d4872e3525df4fd69710d58813f051e4"
       ],
       "layout": "IPY_MODEL_b8668fdc18be4d2ea18458b00622a351"
      }
     },
     "677fad1f92e44056a7907c662720711a": {
      "model_module": "@jupyter-widgets/controls",
      "model_module_version": "1.5.0",
      "model_name": "VBoxModel",
      "state": {
       "children": [
        "IPY_MODEL_b49f2d8e0e7a4e049e68cb8d99ad311a",
        "IPY_MODEL_c6c96317da554462bf153e12126d69e8",
        "IPY_MODEL_33abb78c8d7d4887908c2b76bb6d0794",
        "IPY_MODEL_e05a719c7e2d4c73b65bcfd13fbce70d",
        "IPY_MODEL_b78b447b18db4438a64aeb6355e088b8"
       ],
       "layout": "IPY_MODEL_1bb4f85accd44494a37fe55a40973e91"
      }
     },
     "678bd4c2460b4291a40eabdccc9da37f": {
      "model_module": "@jupyter-widgets/base",
      "model_module_version": "1.2.0",
      "model_name": "LayoutModel",
      "state": {
       "justify_content": "space-around",
       "width": "14%"
      }
     },
     "67cba6d4805049a6b038748a6b3990de": {
      "model_module": "@jupyter-widgets/controls",
      "model_module_version": "1.5.0",
      "model_name": "ButtonStyleModel",
      "state": {}
     },
     "687e3a09aa50438aab61433dbef976f9": {
      "model_module": "@jupyter-widgets/controls",
      "model_module_version": "1.5.0",
      "model_name": "ButtonModel",
      "state": {
       "description": "Stage [ID]: name at [source]:[line]",
       "layout": "IPY_MODEL_b623104767bf4a6eb6e1c227be8ea118",
       "style": "IPY_MODEL_27bf0d49271b42f8a4f39765b455d8ae"
      }
     },
     "68cb32e2f7754b51a51ca9d949fe481f": {
      "model_module": "@jupyter-widgets/base",
      "model_module_version": "1.2.0",
      "model_name": "LayoutModel",
      "state": {}
     },
     "68f51d19d9ae4168b0f2b07f7dc21f93": {
      "model_module": "@jupyter-widgets/controls",
      "model_module_version": "1.5.0",
      "model_name": "VBoxModel",
      "state": {
       "children": [
        "IPY_MODEL_a3605af242564c63ba1c538af5339531"
       ],
       "layout": "IPY_MODEL_44f333721b584ee5a230737ca6f29b3d"
      }
     },
     "6918ca78c8ef4af6bc9bc2532b334eb2": {
      "model_module": "@jupyter-widgets/controls",
      "model_module_version": "1.5.0",
      "model_name": "AccordionModel",
      "state": {
       "_titles": {
        "0": "Spark Job Progress"
       },
       "children": [
        "IPY_MODEL_f72d88af02a44a9baa250b69cb7d4374"
       ],
       "layout": "IPY_MODEL_24cdbf727006452b8d343d48e3f2f925",
       "selected_index": null
      }
     },
     "69626bb2714745b4a79f5dc2264a59f9": {
      "model_module": "@jupyter-widgets/base",
      "model_module_version": "1.2.0",
      "model_name": "LayoutModel",
      "state": {}
     },
     "69f519152b40430085e4ac34e262c851": {
      "model_module": "@jupyter-widgets/base",
      "model_module_version": "1.2.0",
      "model_name": "LayoutModel",
      "state": {
       "border": "3px solid #5d6d7e"
      }
     },
     "69fcf0aaa2224228b772b10bbb675d6e": {
      "model_module": "@jupyter-widgets/base",
      "model_module_version": "1.2.0",
      "model_name": "LayoutModel",
      "state": {}
     },
     "6b0247e022554072aaf6e2aa5e4ff8a2": {
      "model_module": "@jupyter-widgets/base",
      "model_module_version": "1.2.0",
      "model_name": "LayoutModel",
      "state": {
       "max_height": "500px",
       "overflow_y": "scroll"
      }
     },
     "6b480508e2914c9f9d7f486e6faa9d09": {
      "model_module": "@jupyter-widgets/controls",
      "model_module_version": "1.5.0",
      "model_name": "IntProgressModel",
      "state": {
       "bar_style": "success",
       "layout": "IPY_MODEL_2ff1cec8549e42a7a2da2001fedce11b",
       "max": 2,
       "style": "IPY_MODEL_1f193261902d412aa0a9af60257c1b08",
       "value": 2
      }
     },
     "6b5f065aba734f94a842aa03d25a1f7f": {
      "model_module": "@jupyter-widgets/controls",
      "model_module_version": "1.5.0",
      "model_name": "ButtonStyleModel",
      "state": {}
     },
     "6b61ade6f0cc430b84091289599f8ae0": {
      "model_module": "@jupyter-widgets/base",
      "model_module_version": "1.2.0",
      "model_name": "LayoutModel",
      "state": {}
     },
     "6bdc0b078b7640b48e4968e7f2684c50": {
      "model_module": "@jupyter-widgets/base",
      "model_module_version": "1.2.0",
      "model_name": "LayoutModel",
      "state": {
       "width": "auto"
      }
     },
     "6d1acebbe645480294c6231d216678fb": {
      "model_module": "@jupyter-widgets/base",
      "model_module_version": "1.2.0",
      "model_name": "LayoutModel",
      "state": {
       "justify_content": "space-around",
       "width": "19%"
      }
     },
     "6e2528ad6a264f009d65401a9edc6d25": {
      "model_module": "@jupyter-widgets/base",
      "model_module_version": "1.2.0",
      "model_name": "LayoutModel",
      "state": {
       "width": "40%"
      }
     },
     "6e65d39a082f410ca0c101b25d02dc9f": {
      "model_module": "@jupyter-widgets/base",
      "model_module_version": "1.2.0",
      "model_name": "LayoutModel",
      "state": {}
     },
     "6eda518c955643629b1fe7d6b8f57f83": {
      "model_module": "@jupyter-widgets/controls",
      "model_module_version": "1.5.0",
      "model_name": "ProgressStyleModel",
      "state": {
       "description_width": ""
      }
     },
     "6eec754525b54eee92d91e7aca712eab": {
      "model_module": "@jupyter-widgets/controls",
      "model_module_version": "1.5.0",
      "model_name": "ButtonModel",
      "state": {
       "description": "Failed Task Logs",
       "layout": "IPY_MODEL_dc392298eff644f48b8f048f9d17e13f",
       "style": "IPY_MODEL_6435aa7935b340cbb3d7ef2ae7a7252b"
      }
     },
     "6f0df9addbc24bef800a39ab5a115f24": {
      "model_module": "@jupyter-widgets/base",
      "model_module_version": "1.2.0",
      "model_name": "LayoutModel",
      "state": {
       "width": "100%"
      }
     },
     "6f787f09b3904d6a958cdabbd3d065e6": {
      "model_module": "@jupyter-widgets/controls",
      "model_module_version": "1.5.0",
      "model_name": "ButtonStyleModel",
      "state": {}
     },
     "6fb1e18877b9442fb44c2bae3bfb2411": {
      "model_module": "@jupyter-widgets/base",
      "model_module_version": "1.2.0",
      "model_name": "LayoutModel",
      "state": {
       "width": "auto"
      }
     },
     "6ff59bc3ce3d40538c5983fd1cb1d049": {
      "model_module": "@jupyter-widgets/controls",
      "model_module_version": "1.5.0",
      "model_name": "VBoxModel",
      "state": {
       "layout": "IPY_MODEL_5e104dbdd176494ea34cd8fe8729ea21"
      }
     },
     "70188467dd66463a9b803f76df8dd730": {
      "model_module": "@jupyter-widgets/controls",
      "model_module_version": "1.5.0",
      "model_name": "DescriptionStyleModel",
      "state": {
       "description_width": ""
      }
     },
     "728da3129a394dd290360ac464102490": {
      "model_module": "@jupyter-widgets/controls",
      "model_module_version": "1.5.0",
      "model_name": "HBoxModel",
      "state": {
       "children": [
        "IPY_MODEL_9763fda25737490fa7740dad495ee553"
       ],
       "layout": "IPY_MODEL_b135353c43e143529ea6a0c8ac977349"
      }
     },
     "72c5bbd426ac485f83fbb878183a021a": {
      "model_module": "@jupyter-widgets/base",
      "model_module_version": "1.2.0",
      "model_name": "LayoutModel",
      "state": {}
     },
     "73ca88f8478c4f878b9d82a977d38663": {
      "model_module": "@jupyter-widgets/controls",
      "model_module_version": "1.5.0",
      "model_name": "LabelModel",
      "state": {
       "layout": "IPY_MODEL_8eedb7738f8b41bba31ba9bebc4b5684",
       "style": "IPY_MODEL_6541e3994f36440d980be7f12e247c8a",
       "value": "7.378"
      }
     },
     "74659ceca3634d6382b6bc2b591128fb": {
      "model_module": "@jupyter-widgets/base",
      "model_module_version": "1.2.0",
      "model_name": "LayoutModel",
      "state": {
       "justify_content": "space-around",
       "width": "14%"
      }
     },
     "74ec9285026a4477969b242c4584e790": {
      "model_module": "@jupyter-widgets/controls",
      "model_module_version": "1.5.0",
      "model_name": "ButtonModel",
      "state": {
       "button_style": "success",
       "description": "COMPLETE",
       "layout": "IPY_MODEL_1667dd6ae58c445ebef62666a7d08d92",
       "style": "IPY_MODEL_0224ef22690346c3bcf8e535033c9584"
      }
     },
     "7617c8e8d82942109e2547d17c96d007": {
      "model_module": "@jupyter-widgets/base",
      "model_module_version": "1.2.0",
      "model_name": "LayoutModel",
      "state": {
       "border": "3px solid #232f3c",
       "justify_content": "space-around"
      }
     },
     "7700935d0d81498a949672c6ea942b77": {
      "model_module": "@jupyter-widgets/controls",
      "model_module_version": "1.5.0",
      "model_name": "VBoxModel",
      "state": {
       "layout": "IPY_MODEL_0d63ec9ae25d4cc98f3a034f90e93e90"
      }
     },
     "77efb007e58a4ad582abcdeac76cb8de": {
      "model_module": "@jupyter-widgets/base",
      "model_module_version": "1.2.0",
      "model_name": "LayoutModel",
      "state": {}
     },
     "7807400c306c494697f89e726b644365": {
      "model_module": "@jupyter-widgets/base",
      "model_module_version": "1.2.0",
      "model_name": "LayoutModel",
      "state": {
       "width": "40%"
      }
     },
     "789a798fa2a3485b86b4ba0853d959b8": {
      "model_module": "@jupyter-widgets/base",
      "model_module_version": "1.2.0",
      "model_name": "LayoutModel",
      "state": {
       "border": "3px solid #5d6d7e",
       "justify_content": "flex-start",
       "min_height": "40px"
      }
     },
     "78e24ec7306b4f0aa9b09b4d2649495d": {
      "model_module": "@jupyter-widgets/base",
      "model_module_version": "1.2.0",
      "model_name": "LayoutModel",
      "state": {}
     },
     "78f26b98f0304f2fa986db0034f46335": {
      "model_module": "@jupyter-widgets/controls",
      "model_module_version": "1.5.0",
      "model_name": "ButtonStyleModel",
      "state": {}
     },
     "798f5c43ff7a4e24ad347b96ab813f2e": {
      "model_module": "@jupyter-widgets/controls",
      "model_module_version": "1.5.0",
      "model_name": "DescriptionStyleModel",
      "state": {
       "description_width": ""
      }
     },
     "79ec93800eee40118fd9540753914810": {
      "model_module": "@jupyter-widgets/controls",
      "model_module_version": "1.5.0",
      "model_name": "HBoxModel",
      "state": {
       "children": [
        "IPY_MODEL_80b23424f79a48b39085fd116e3eebb3"
       ],
       "layout": "IPY_MODEL_2ff156bdf1004f5c8d3d0979f368b4e8"
      }
     },
     "7a60f6bf4cfb48cd9a9936497802e2a0": {
      "model_module": "@jupyter-widgets/controls",
      "model_module_version": "1.5.0",
      "model_name": "ButtonModel",
      "state": {
       "description": "Stage [ID]: name at [source]:[line]",
       "layout": "IPY_MODEL_9ed7c428330442f39965be201f197164",
       "style": "IPY_MODEL_3b7257e120f74dd0b875b8dfaec00551"
      }
     },
     "7aaad44fb9fe46acb278557596231376": {
      "model_module": "@jupyter-widgets/base",
      "model_module_version": "1.2.0",
      "model_name": "LayoutModel",
      "state": {
       "max_height": "500px",
       "overflow_y": "scroll"
      }
     },
     "7acb4f3ed51b47ecade7bfd61bba539b": {
      "model_module": "@jupyter-widgets/controls",
      "model_module_version": "1.5.0",
      "model_name": "HBoxModel",
      "state": {
       "children": [
        "IPY_MODEL_e4bc7b09b6ea4b78ae370fb7d121d7c1"
       ],
       "layout": "IPY_MODEL_34f4c8aa819b44bc8b78f351ec34308b"
      }
     },
     "7b397a9909fb4d86bf465413de2a6f33": {
      "model_module": "@jupyter-widgets/base",
      "model_module_version": "1.2.0",
      "model_name": "LayoutModel",
      "state": {
       "width": "14%"
      }
     },
     "7bbc73f63c404d23bb15c047f0b8e8e1": {
      "model_module": "@jupyter-widgets/controls",
      "model_module_version": "1.5.0",
      "model_name": "DescriptionStyleModel",
      "state": {
       "description_width": ""
      }
     },
     "7bcceedf92f440e689d66c9cc73fd47d": {
      "model_module": "@jupyter-widgets/base",
      "model_module_version": "1.2.0",
      "model_name": "LayoutModel",
      "state": {
       "max_height": "500px",
       "overflow_y": "scroll"
      }
     },
     "7bdd0f473bff40c8ad66954731378055": {
      "model_module": "@jupyter-widgets/controls",
      "model_module_version": "1.5.0",
      "model_name": "HBoxModel",
      "state": {
       "children": [
        "IPY_MODEL_60f302c9cc42459b98ffbd1bba8b01fb"
       ],
       "layout": "IPY_MODEL_fd64b073750f4f469d191ce42c1396ba"
      }
     },
     "7ced8218f04f412f834831f1fcb43395": {
      "model_module": "@jupyter-widgets/base",
      "model_module_version": "1.2.0",
      "model_name": "LayoutModel",
      "state": {
       "width": "100%"
      }
     },
     "7ec0c8b1bf734e958477930628a8fe09": {
      "model_module": "@jupyter-widgets/base",
      "model_module_version": "1.2.0",
      "model_name": "LayoutModel",
      "state": {
       "justify_content": "space-around",
       "width": "26%"
      }
     },
     "7efdc92ee8b9438888e711169324c75b": {
      "model_module": "@jupyter-widgets/controls",
      "model_module_version": "1.5.0",
      "model_name": "DescriptionStyleModel",
      "state": {
       "description_width": ""
      }
     },
     "7f08c4ae9d764e53a5e17dff91b26e60": {
      "model_module": "@jupyter-widgets/controls",
      "model_module_version": "1.5.0",
      "model_name": "IntProgressModel",
      "state": {
       "bar_style": "success",
       "description": "1/1",
       "layout": "IPY_MODEL_3024309eaf3444a487efbd418cb7d5b0",
       "max": 1,
       "style": "IPY_MODEL_6248fa671f984a098accdae8eef2af94",
       "value": 1
      }
     },
     "8044acd316f542568dada2d1c2fcb355": {
      "model_module": "@jupyter-widgets/base",
      "model_module_version": "1.2.0",
      "model_name": "LayoutModel",
      "state": {}
     },
     "80b23424f79a48b39085fd116e3eebb3": {
      "model_module": "@jupyter-widgets/controls",
      "model_module_version": "1.5.0",
      "model_name": "IntProgressModel",
      "state": {
       "bar_style": "success",
       "description": "1/1",
       "layout": "IPY_MODEL_13286a7ce5ca483cbe9c8b5838a69e05",
       "max": 1,
       "style": "IPY_MODEL_9c28f07f690c43d39e613b8e64997f3b",
       "value": 1
      }
     },
     "81611c76c25f448aadc81a6cdf122af0": {
      "model_module": "@jupyter-widgets/controls",
      "model_module_version": "1.5.0",
      "model_name": "VBoxModel",
      "state": {
       "children": [
        "IPY_MODEL_0c3e5f7a5b6c4237963625d804cab029"
       ],
       "layout": "IPY_MODEL_69626bb2714745b4a79f5dc2264a59f9"
      }
     },
     "826faf125d5948689f833c5d3737e011": {
      "model_module": "@jupyter-widgets/controls",
      "model_module_version": "1.5.0",
      "model_name": "ButtonModel",
      "state": {
       "description": "Failed Task Logs",
       "layout": "IPY_MODEL_f662a433e0b547daa864e6958a9adc92",
       "style": "IPY_MODEL_d7bf40a9a6444209b592df7aaf6c6e77"
      }
     },
     "82f831d0c0e942f0b78046b1bda8808f": {
      "model_module": "@jupyter-widgets/controls",
      "model_module_version": "1.5.0",
      "model_name": "VBoxModel",
      "state": {
       "layout": "IPY_MODEL_546da8cba4054afd8e772a3fcc010f5a"
      }
     },
     "8352427e0d924228809f08c0a513f2a2": {
      "model_module": "@jupyter-widgets/controls",
      "model_module_version": "1.5.0",
      "model_name": "VBoxModel",
      "state": {
       "children": [
        "IPY_MODEL_aab9675422ea4b9486d3d861773e358f"
       ],
       "layout": "IPY_MODEL_40e3728da35547a3a44686adb5f03370"
      }
     },
     "840e299a4ac447f7aafbe9804c17dbd8": {
      "model_module": "@jupyter-widgets/controls",
      "model_module_version": "1.5.0",
      "model_name": "HBoxModel",
      "state": {
       "children": [
        "IPY_MODEL_1e54cba37e484f9da173d1699d3228be",
        "IPY_MODEL_f4a99220b3ed444982fed6e29ec4619a"
       ],
       "layout": "IPY_MODEL_7617c8e8d82942109e2547d17c96d007"
      }
     },
     "8495c2564a5142779711b34454200fe0": {
      "model_module": "@jupyter-widgets/controls",
      "model_module_version": "1.5.0",
      "model_name": "HTMLModel",
      "state": {
       "layout": "IPY_MODEL_bd72856f235a49a9b48e50457180c511",
       "style": "IPY_MODEL_e8028e993a9b417faeda511f8d6c7c24"
      }
     },
     "84cf3bc8aa6540e3a1bc7f2cb9e449e6": {
      "model_module": "@jupyter-widgets/base",
      "model_module_version": "1.2.0",
      "model_name": "LayoutModel",
      "state": {
       "border": "3px solid #232f3c",
       "justify_content": "space-around"
      }
     },
     "8500b608b2e9402a8d89cb881b7bd67a": {
      "model_module": "@jupyter-widgets/base",
      "model_module_version": "1.2.0",
      "model_name": "LayoutModel",
      "state": {
       "max_height": "500px",
       "overflow_y": "scroll"
      }
     },
     "8527a9d57aca41d88dc929441af4c5fd": {
      "model_module": "@jupyter-widgets/controls",
      "model_module_version": "1.5.0",
      "model_name": "HBoxModel",
      "state": {
       "children": [
        "IPY_MODEL_2eeefd81377b49a89ba8c79adad05a17"
       ],
       "layout": "IPY_MODEL_13882a13e52242d6b2b8487ed3df508e"
      }
     },
     "863becdad83a45d29bfb8698b373fdea": {
      "model_module": "@jupyter-widgets/controls",
      "model_module_version": "1.5.0",
      "model_name": "LabelModel",
      "state": {
       "layout": "IPY_MODEL_5ae3c481eb6542a6a53f6a38ab273dac",
       "style": "IPY_MODEL_5291a795ac324fea85eea7feac92756e",
       "value": "Job Progress: 1/1 Tasks Complete"
      }
     },
     "86432eabcb1f4811935344fe1f0d5cc3": {
      "model_module": "@jupyter-widgets/controls",
      "model_module_version": "1.5.0",
      "model_name": "ProgressStyleModel",
      "state": {
       "description_width": ""
      }
     },
     "86495b2dc1aa4b7383b91fcae7ae8d84": {
      "model_module": "@jupyter-widgets/controls",
      "model_module_version": "1.5.0",
      "model_name": "HBoxModel",
      "state": {
       "children": [
        "IPY_MODEL_74ec9285026a4477969b242c4584e790"
       ],
       "layout": "IPY_MODEL_992bf2e13fb140d396a93f765338d589"
      }
     },
     "865a6647d8d44c109dbab24b15a64304": {
      "model_module": "@jupyter-widgets/controls",
      "model_module_version": "1.5.0",
      "model_name": "AccordionModel",
      "state": {
       "_titles": {
        "0": "Spark Job Progress"
       },
       "children": [
        "IPY_MODEL_47eaa515d0c94546a9d729ddd743be47"
       ],
       "layout": "IPY_MODEL_1fb0c95cb0f44a4a800b5459efe3dbdf",
       "selected_index": null
      }
     },
     "8750fbb2f202479c9c5b31b4abbd23c1": {
      "model_module": "@jupyter-widgets/base",
      "model_module_version": "1.2.0",
      "model_name": "LayoutModel",
      "state": {}
     },
     "886a738e5c4647d28a14b89a0f8e61a9": {
      "model_module": "@jupyter-widgets/base",
      "model_module_version": "1.2.0",
      "model_name": "LayoutModel",
      "state": {
       "justify_content": "space-around",
       "width": "26%"
      }
     },
     "891f263c499745189680f1a4febcdf97": {
      "model_module": "@jupyter-widgets/controls",
      "model_module_version": "1.5.0",
      "model_name": "LabelModel",
      "state": {
       "layout": "IPY_MODEL_7807400c306c494697f89e726b644365",
       "style": "IPY_MODEL_0fc952d69b774e1caf96d7532351b9eb",
       "value": "Job Progress: 2/2 Tasks Complete"
      }
     },
     "893df4d755644765ad2abf073c72a550": {
      "model_module": "@jupyter-widgets/controls",
      "model_module_version": "1.5.0",
      "model_name": "DescriptionStyleModel",
      "state": {
       "description_width": ""
      }
     },
     "89b1a1c152ad42f1886544c8c0c9af9c": {
      "model_module": "@jupyter-widgets/base",
      "model_module_version": "1.2.0",
      "model_name": "LayoutModel",
      "state": {}
     },
     "89fc991402fc43d88581e09ba196900c": {
      "model_module": "@jupyter-widgets/controls",
      "model_module_version": "1.5.0",
      "model_name": "HBoxModel",
      "state": {
       "children": [
        "IPY_MODEL_7a60f6bf4cfb48cd9a9936497802e2a0",
        "IPY_MODEL_e8fc014d8c714fdcb30c1876a7a9c231",
        "IPY_MODEL_1f0b2bbdbdec4538b8e7aa8d438639dd",
        "IPY_MODEL_944b54880564439db3aee2bbe0fa6c4f",
        "IPY_MODEL_6162da7f25ba4d0c895321304faeceb8"
       ],
       "layout": "IPY_MODEL_3777c916902f48308789d5af0b28b0af"
      }
     },
     "8ab9cd17d314462294283db932f42183": {
      "model_module": "@jupyter-widgets/base",
      "model_module_version": "1.2.0",
      "model_name": "LayoutModel",
      "state": {
       "border": "3px solid #5d6d7e",
       "justify_content": "flex-start",
       "min_height": "40px"
      }
     },
     "8b2400731df14975930ad66abcc3b9da": {
      "model_module": "@jupyter-widgets/controls",
      "model_module_version": "1.5.0",
      "model_name": "ProgressStyleModel",
      "state": {
       "description_width": ""
      }
     },
     "8b45f2ef04f64906a8ddeb4509c223a4": {
      "model_module": "@jupyter-widgets/base",
      "model_module_version": "1.2.0",
      "model_name": "LayoutModel",
      "state": {
       "max_height": "500px",
       "overflow_y": "scroll"
      }
     },
     "8b6274c5255149a386dfcd7096d3c717": {
      "model_module": "@jupyter-widgets/base",
      "model_module_version": "1.2.0",
      "model_name": "LayoutModel",
      "state": {}
     },
     "8b7bd6c3f67840838cf3cd156184daec": {
      "model_module": "@jupyter-widgets/base",
      "model_module_version": "1.2.0",
      "model_name": "LayoutModel",
      "state": {}
     },
     "8c511a1f466f46f3b0309cb97041a1d9": {
      "model_module": "@jupyter-widgets/controls",
      "model_module_version": "1.5.0",
      "model_name": "AccordionModel",
      "state": {
       "_titles": {
        "0": "Spark Job Progress"
       },
       "children": [
        "IPY_MODEL_c8feae68af99419b9df005021a975d6e"
       ],
       "layout": "IPY_MODEL_c77ad4a04643445796979deaa33f88bc",
       "selected_index": null
      }
     },
     "8cc29cdc496046079082e4428ef3662d": {
      "model_module": "@jupyter-widgets/base",
      "model_module_version": "1.2.0",
      "model_name": "LayoutModel",
      "state": {
       "width": "auto"
      }
     },
     "8cf2938c2a7e4e0493fe1ed20ff4faf3": {
      "model_module": "@jupyter-widgets/controls",
      "model_module_version": "1.5.0",
      "model_name": "DescriptionStyleModel",
      "state": {
       "description_width": ""
      }
     },
     "8d13fe6485d644b39fa751b80fb87957": {
      "model_module": "@jupyter-widgets/controls",
      "model_module_version": "1.5.0",
      "model_name": "VBoxModel",
      "state": {
       "layout": "IPY_MODEL_1a09404271484b81bebf744d390fc761"
      }
     },
     "8d5a701743f64605b2338c25f6c56a4d": {
      "model_module": "@jupyter-widgets/base",
      "model_module_version": "1.2.0",
      "model_name": "LayoutModel",
      "state": {
       "width": "60%"
      }
     },
     "8e2662a615814cf9b8faa4a70c74ddc0": {
      "model_module": "@jupyter-widgets/controls",
      "model_module_version": "1.5.0",
      "model_name": "AccordionModel",
      "state": {
       "_titles": {
        "0": "Spark Job Progress"
       },
       "children": [
        "IPY_MODEL_650384e88cf74c6bade88528581259e3"
       ],
       "layout": "IPY_MODEL_6b61ade6f0cc430b84091289599f8ae0",
       "selected_index": null
      }
     },
     "8e64f6e0de5b4b1b8f31d630d5903230": {
      "model_module": "@jupyter-widgets/controls",
      "model_module_version": "1.5.0",
      "model_name": "ButtonModel",
      "state": {
       "description": "Task Progress",
       "layout": "IPY_MODEL_fd901a3fa51e48ddb0b18828ed0d7849",
       "style": "IPY_MODEL_6f787f09b3904d6a958cdabbd3d065e6"
      }
     },
     "8eedb7738f8b41bba31ba9bebc4b5684": {
      "model_module": "@jupyter-widgets/base",
      "model_module_version": "1.2.0",
      "model_name": "LayoutModel",
      "state": {
       "width": "auto"
      }
     },
     "8fc02329e8e14c548056f66745d93a19": {
      "model_module": "@jupyter-widgets/controls",
      "model_module_version": "1.5.0",
      "model_name": "ProgressStyleModel",
      "state": {
       "description_width": ""
      }
     },
     "8fe0209285be429ebc3a83edb79395dc": {
      "model_module": "@jupyter-widgets/base",
      "model_module_version": "1.2.0",
      "model_name": "LayoutModel",
      "state": {}
     },
     "90ae6ad55bb54d81bdb2799ea6d2df44": {
      "model_module": "@jupyter-widgets/controls",
      "model_module_version": "1.5.0",
      "model_name": "ProgressStyleModel",
      "state": {
       "description_width": ""
      }
     },
     "90c0da07cdfa4d91be2bb9d387d8ddba": {
      "model_module": "@jupyter-widgets/controls",
      "model_module_version": "1.5.0",
      "model_name": "HTMLModel",
      "state": {
       "layout": "IPY_MODEL_6bdc0b078b7640b48e4968e7f2684c50",
       "style": "IPY_MODEL_d46ceebdab0b404699bffb5fd9db6465"
      }
     },
     "90c266d1e71b42938b8640c3d5147160": {
      "model_module": "@jupyter-widgets/base",
      "model_module_version": "1.2.0",
      "model_name": "LayoutModel",
      "state": {
       "height": "25px",
       "width": "50%"
      }
     },
     "9111015d841f46ff824b4a5184474513": {
      "model_module": "@jupyter-widgets/controls",
      "model_module_version": "1.5.0",
      "model_name": "HBoxModel",
      "state": {
       "children": [
        "IPY_MODEL_b0fb9ccc52c248abb790c8d251a84d40",
        "IPY_MODEL_4a0b99244a4a4af887c1e528a7c2dda0",
        "IPY_MODEL_2be4f388ceef48799b0f71d439d22d8d",
        "IPY_MODEL_728da3129a394dd290360ac464102490",
        "IPY_MODEL_bd995321289d4fe3b16d691603aea760"
       ],
       "layout": "IPY_MODEL_4781a4eb552347f58a056ef2c232e541"
      }
     },
     "9347ec13dce54857a356113952064b5b": {
      "model_module": "@jupyter-widgets/base",
      "model_module_version": "1.2.0",
      "model_name": "LayoutModel",
      "state": {
       "height": "25px",
       "width": "50%"
      }
     },
     "9365606516754d68b021bff282dab9c3": {
      "model_module": "@jupyter-widgets/controls",
      "model_module_version": "1.5.0",
      "model_name": "HBoxModel",
      "state": {
       "children": [
        "IPY_MODEL_103d7afedf5844a9aff3a105351269e1"
       ],
       "layout": "IPY_MODEL_37447e34432c45299ae06273f4638a0a"
      }
     },
     "93e4b1450a484a5ab8fb2872535c2c98": {
      "model_module": "@jupyter-widgets/base",
      "model_module_version": "1.2.0",
      "model_name": "LayoutModel",
      "state": {
       "width": "12%"
      }
     },
     "93e6de78775a4451af54c53014e82c02": {
      "model_module": "@jupyter-widgets/controls",
      "model_module_version": "1.5.0",
      "model_name": "HBoxModel",
      "state": {
       "children": [
        "IPY_MODEL_3e6d2ec5f5154c2f848ba5edf300d167"
       ],
       "layout": "IPY_MODEL_74659ceca3634d6382b6bc2b591128fb"
      }
     },
     "9404b67f65a5439bb3a5cac92bced175": {
      "model_module": "@jupyter-widgets/base",
      "model_module_version": "1.2.0",
      "model_name": "LayoutModel",
      "state": {
       "width": "19%"
      }
     },
     "944b54880564439db3aee2bbe0fa6c4f": {
      "model_module": "@jupyter-widgets/controls",
      "model_module_version": "1.5.0",
      "model_name": "ButtonModel",
      "state": {
       "description": "Elapsed Time (seconds)",
       "layout": "IPY_MODEL_c05ef881cad44c91a9abb14c77aa8190",
       "style": "IPY_MODEL_ba07e92068d54de4b6883e5daaff85b0"
      }
     },
     "95059d1dafc24bc18ce203d00b0097b7": {
      "model_module": "@jupyter-widgets/base",
      "model_module_version": "1.2.0",
      "model_name": "LayoutModel",
      "state": {
       "justify_content": "space-around",
       "width": "29%"
      }
     },
     "96391b41d3d8448487d39e59ca734b74": {
      "model_module": "@jupyter-widgets/controls",
      "model_module_version": "1.5.0",
      "model_name": "AccordionModel",
      "state": {
       "_titles": {
        "0": "Spark Job Progress"
       },
       "children": [
        "IPY_MODEL_efbe7e759883424d8634b4ea24c3f157"
       ],
       "layout": "IPY_MODEL_afdc4738d8d1432ab67b620fb5508d6e",
       "selected_index": null
      }
     },
     "96ca583b3e68419c983639ba73100110": {
      "model_module": "@jupyter-widgets/base",
      "model_module_version": "1.2.0",
      "model_name": "LayoutModel",
      "state": {}
     },
     "971257eb83d04d458e432684cef08693": {
      "model_module": "@jupyter-widgets/base",
      "model_module_version": "1.2.0",
      "model_name": "LayoutModel",
      "state": {}
     },
     "97180461b033480e86209979bb4ce23b": {
      "model_module": "@jupyter-widgets/base",
      "model_module_version": "1.2.0",
      "model_name": "LayoutModel",
      "state": {
       "max_height": "200px",
       "overflow_y": "scroll"
      }
     },
     "975a921801e44925bf57b6c1807d8817": {
      "model_module": "@jupyter-widgets/controls",
      "model_module_version": "1.5.0",
      "model_name": "DescriptionStyleModel",
      "state": {
       "description_width": ""
      }
     },
     "9763fda25737490fa7740dad495ee553": {
      "model_module": "@jupyter-widgets/controls",
      "model_module_version": "1.5.0",
      "model_name": "LabelModel",
      "state": {
       "layout": "IPY_MODEL_b034481d41a540a9a9df599011eef502",
       "style": "IPY_MODEL_893df4d755644765ad2abf073c72a550",
       "value": "6.281"
      }
     },
     "9829d8881d974a689a8547203de33200": {
      "model_module": "@jupyter-widgets/controls",
      "model_module_version": "1.5.0",
      "model_name": "IntProgressModel",
      "state": {
       "bar_style": "success",
       "layout": "IPY_MODEL_e483e45646f44c6f846fb8c90ac9157e",
       "max": 2,
       "style": "IPY_MODEL_a654c094a0024b269e1e5c5287d5cb83",
       "value": 2
      }
     },
     "9844e421711941f183a3a46880b9fb55": {
      "model_module": "@jupyter-widgets/base",
      "model_module_version": "1.2.0",
      "model_name": "LayoutModel",
      "state": {}
     },
     "9873ea4fbf2849f2a1d08a6c6e2f9514": {
      "model_module": "@jupyter-widgets/controls",
      "model_module_version": "1.5.0",
      "model_name": "VBoxModel",
      "state": {
       "children": [
        "IPY_MODEL_ea80d1e8bed0430492e61596f02e947b"
       ],
       "layout": "IPY_MODEL_b5da1a2818ed44419928f7484ea34ee3"
      }
     },
     "992bf2e13fb140d396a93f765338d589": {
      "model_module": "@jupyter-widgets/base",
      "model_module_version": "1.2.0",
      "model_name": "LayoutModel",
      "state": {
       "justify_content": "space-around",
       "width": "12%"
      }
     },
     "9a819aa102f34e24ae1a99c3f3bee83c": {
      "model_module": "@jupyter-widgets/controls",
      "model_module_version": "1.5.0",
      "model_name": "ButtonStyleModel",
      "state": {}
     },
     "9ad47adfeebd4b8eafe982662980e1d3": {
      "model_module": "@jupyter-widgets/base",
      "model_module_version": "1.2.0",
      "model_name": "LayoutModel",
      "state": {}
     },
     "9adf93307af3440aac84d98da960f826": {
      "model_module": "@jupyter-widgets/controls",
      "model_module_version": "1.5.0",
      "model_name": "VBoxModel",
      "state": {
       "layout": "IPY_MODEL_7aaad44fb9fe46acb278557596231376"
      }
     },
     "9b811e09222e45d1aa11f5f506e80521": {
      "model_module": "@jupyter-widgets/controls",
      "model_module_version": "1.5.0",
      "model_name": "DescriptionStyleModel",
      "state": {
       "description_width": ""
      }
     },
     "9c28f07f690c43d39e613b8e64997f3b": {
      "model_module": "@jupyter-widgets/controls",
      "model_module_version": "1.5.0",
      "model_name": "ProgressStyleModel",
      "state": {
       "description_width": ""
      }
     },
     "9c3270a0f1e44f298aaf70c523918427": {
      "model_module": "@jupyter-widgets/base",
      "model_module_version": "1.2.0",
      "model_name": "LayoutModel",
      "state": {}
     },
     "9c98b4ec4684433b85cac1ef7cf1a836": {
      "model_module": "@jupyter-widgets/controls",
      "model_module_version": "1.5.0",
      "model_name": "VBoxModel",
      "state": {
       "layout": "IPY_MODEL_b3ca721fea584300a995f832d818ccf9"
      }
     },
     "9d66a665c39e4e89950ce0546dab3a08": {
      "model_module": "@jupyter-widgets/base",
      "model_module_version": "1.2.0",
      "model_name": "LayoutModel",
      "state": {
       "width": "19%"
      }
     },
     "9d8919cfae54407897ec124063877be9": {
      "model_module": "@jupyter-widgets/base",
      "model_module_version": "1.2.0",
      "model_name": "LayoutModel",
      "state": {
       "width": "29%"
      }
     },
     "9dd0cc8f6bfb44669e3013447c7e5873": {
      "model_module": "@jupyter-widgets/base",
      "model_module_version": "1.2.0",
      "model_name": "LayoutModel",
      "state": {
       "justify_content": "space-around",
       "width": "26%"
      }
     },
     "9de00bfd0e4a4c86ad68b6d10401d2f1": {
      "model_module": "@jupyter-widgets/controls",
      "model_module_version": "1.5.0",
      "model_name": "AccordionModel",
      "state": {
       "_titles": {
        "0": "Spark Job Progress"
       },
       "children": [
        "IPY_MODEL_a6a5d7eee143411e9935dfe8e8264b1f"
       ],
       "layout": "IPY_MODEL_23541706232d440bbf94bcc5dd31617b",
       "selected_index": null
      }
     },
     "9e61a9ae020547c3b6e230c93bcfe383": {
      "model_module": "@jupyter-widgets/base",
      "model_module_version": "1.2.0",
      "model_name": "LayoutModel",
      "state": {}
     },
     "9ed7c428330442f39965be201f197164": {
      "model_module": "@jupyter-widgets/base",
      "model_module_version": "1.2.0",
      "model_name": "LayoutModel",
      "state": {
       "width": "26%"
      }
     },
     "9f57132af4c24b85a31d5bba2c347368": {
      "model_module": "@jupyter-widgets/base",
      "model_module_version": "1.2.0",
      "model_name": "LayoutModel",
      "state": {}
     },
     "a1238b593ce54913b36711fbbb7e3bbe": {
      "model_module": "@jupyter-widgets/base",
      "model_module_version": "1.2.0",
      "model_name": "LayoutModel",
      "state": {}
     },
     "a15087ef6203467286b6b614d14aa430": {
      "model_module": "@jupyter-widgets/base",
      "model_module_version": "1.2.0",
      "model_name": "LayoutModel",
      "state": {}
     },
     "a16ef7f2ee8b474a9b2d825f18bd95f1": {
      "model_module": "@jupyter-widgets/controls",
      "model_module_version": "1.5.0",
      "model_name": "VBoxModel",
      "state": {
       "children": [
        "IPY_MODEL_ee70c148a3c64f68af27a05af8792d56"
       ],
       "layout": "IPY_MODEL_0c759b2f88d448f0888359f077a43f48"
      }
     },
     "a1d900659045422389c529512455b895": {
      "model_module": "@jupyter-widgets/controls",
      "model_module_version": "1.5.0",
      "model_name": "VBoxModel",
      "state": {
       "layout": "IPY_MODEL_8500b608b2e9402a8d89cb881b7bd67a"
      }
     },
     "a21f72aa95124f07bbf55faf132466cc": {
      "model_module": "@jupyter-widgets/base",
      "model_module_version": "1.2.0",
      "model_name": "LayoutModel",
      "state": {
       "width": "100%"
      }
     },
     "a2a69fb027144fbd8dda30c243a80b11": {
      "model_module": "@jupyter-widgets/controls",
      "model_module_version": "1.5.0",
      "model_name": "DescriptionStyleModel",
      "state": {
       "description_width": ""
      }
     },
     "a2a98efe259847d685caa14aeb01ed9f": {
      "model_module": "@jupyter-widgets/base",
      "model_module_version": "1.2.0",
      "model_name": "LayoutModel",
      "state": {}
     },
     "a3605af242564c63ba1c538af5339531": {
      "model_module": "@jupyter-widgets/controls",
      "model_module_version": "1.5.0",
      "model_name": "VBoxModel",
      "state": {
       "layout": "IPY_MODEL_8b45f2ef04f64906a8ddeb4509c223a4"
      }
     },
     "a3740ad4b0584be297512c0f9da3eb4a": {
      "model_module": "@jupyter-widgets/controls",
      "model_module_version": "1.5.0",
      "model_name": "HBoxModel",
      "state": {
       "children": [
        "IPY_MODEL_552885eb2f2e44828faffe3f8109a88a"
       ],
       "layout": "IPY_MODEL_c5d42f58e7254782ba4bd6a17b8e28f7"
      }
     },
     "a3a04de22f2649619a47b2066ff5bf72": {
      "model_module": "@jupyter-widgets/controls",
      "model_module_version": "1.5.0",
      "model_name": "LabelModel",
      "state": {
       "layout": "IPY_MODEL_7ced8218f04f412f834831f1fcb43395",
       "style": "IPY_MODEL_0f0875d25ddd4867b29e450a0e0c2ce6",
       "value": "Stage [4]: load at NativeMe...java:0"
      }
     },
     "a3c480a6481d48c9a7a58e421cda63cc": {
      "model_module": "@jupyter-widgets/base",
      "model_module_version": "1.2.0",
      "model_name": "LayoutModel",
      "state": {
       "border": "3px solid #5d6d7e",
       "justify_content": "flex-start",
       "min_height": "40px"
      }
     },
     "a408c5ece01a4317a5fe5544d1a31e86": {
      "model_module": "@jupyter-widgets/base",
      "model_module_version": "1.2.0",
      "model_name": "LayoutModel",
      "state": {
       "width": "100%"
      }
     },
     "a48b7d47865b47d1bb083e0d63328cd7": {
      "model_module": "@jupyter-widgets/base",
      "model_module_version": "1.2.0",
      "model_name": "LayoutModel",
      "state": {
       "justify_content": "space-around",
       "width": "29%"
      }
     },
     "a4ad8c3e6ff04ea5a56db871f4bf6e23": {
      "model_module": "@jupyter-widgets/base",
      "model_module_version": "1.2.0",
      "model_name": "LayoutModel",
      "state": {
       "height": "25px",
       "width": "50%"
      }
     },
     "a4cdd2635151400facac5956731b0817": {
      "model_module": "@jupyter-widgets/base",
      "model_module_version": "1.2.0",
      "model_name": "LayoutModel",
      "state": {
       "width": "29%"
      }
     },
     "a654c094a0024b269e1e5c5287d5cb83": {
      "model_module": "@jupyter-widgets/controls",
      "model_module_version": "1.5.0",
      "model_name": "ProgressStyleModel",
      "state": {
       "description_width": ""
      }
     },
     "a6a5d7eee143411e9935dfe8e8264b1f": {
      "model_module": "@jupyter-widgets/controls",
      "model_module_version": "1.5.0",
      "model_name": "VBoxModel",
      "state": {
       "children": [
        "IPY_MODEL_e7a09a7c0d8c4eacbf76ad7ed6a747ef"
       ],
       "layout": "IPY_MODEL_dc5d37bfbd3841ff96cd84559df35d18"
      }
     },
     "a71b462b0c1e4f6b8552b4da185a3c8c": {
      "model_module": "@jupyter-widgets/controls",
      "model_module_version": "1.5.0",
      "model_name": "HBoxModel",
      "state": {
       "children": [
        "IPY_MODEL_02227bc655494c05b3b1c055974ecd93",
        "IPY_MODEL_00f9f04d1ff44834accaff7c6abfe03d"
       ],
       "layout": "IPY_MODEL_5154d978eb7d4119bf25e5f8abf1435c"
      }
     },
     "a7a1947a3b2540c9a99d0904740c4c53": {
      "model_module": "@jupyter-widgets/base",
      "model_module_version": "1.2.0",
      "model_name": "LayoutModel",
      "state": {
       "max_height": "500px",
       "overflow_y": "scroll"
      }
     },
     "a7b39074d9554ebfbe4ccf9743d4a64a": {
      "model_module": "@jupyter-widgets/base",
      "model_module_version": "1.2.0",
      "model_name": "LayoutModel",
      "state": {}
     },
     "a876b57bb7b9486b8ba259488c3b2eb6": {
      "model_module": "@jupyter-widgets/controls",
      "model_module_version": "1.5.0",
      "model_name": "ButtonModel",
      "state": {
       "description": "Task Progress",
       "layout": "IPY_MODEL_9d8919cfae54407897ec124063877be9",
       "style": "IPY_MODEL_78f26b98f0304f2fa986db0034f46335"
      }
     },
     "a8dd74e4967841238fcaf42e4c5ce135": {
      "model_module": "@jupyter-widgets/base",
      "model_module_version": "1.2.0",
      "model_name": "LayoutModel",
      "state": {
       "max_height": "500px",
       "overflow_y": "scroll"
      }
     },
     "a9bb09332aa6490faf4d55ad987ab7f9": {
      "model_module": "@jupyter-widgets/controls",
      "model_module_version": "1.5.0",
      "model_name": "ButtonStyleModel",
      "state": {}
     },
     "aa1aec245918477d83bf98612a6e3728": {
      "model_module": "@jupyter-widgets/controls",
      "model_module_version": "1.5.0",
      "model_name": "ButtonStyleModel",
      "state": {}
     },
     "aa964c43528342e6a5f6268ca73b6a87": {
      "model_module": "@jupyter-widgets/base",
      "model_module_version": "1.2.0",
      "model_name": "LayoutModel",
      "state": {}
     },
     "aab9675422ea4b9486d3d861773e358f": {
      "model_module": "@jupyter-widgets/controls",
      "model_module_version": "1.5.0",
      "model_name": "VBoxModel",
      "state": {
       "layout": "IPY_MODEL_7bcceedf92f440e689d66c9cc73fd47d"
      }
     },
     "af76685e136247ce98fed57e80cf5d1b": {
      "model_module": "@jupyter-widgets/base",
      "model_module_version": "1.2.0",
      "model_name": "LayoutModel",
      "state": {
       "justify_content": "space-around",
       "width": "19%"
      }
     },
     "afcf489ff87e43348c077961e89e6c97": {
      "model_module": "@jupyter-widgets/controls",
      "model_module_version": "1.5.0",
      "model_name": "HBoxModel",
      "state": {
       "children": [
        "IPY_MODEL_8495c2564a5142779711b34454200fe0"
       ],
       "layout": "IPY_MODEL_678bd4c2460b4291a40eabdccc9da37f"
      }
     },
     "afdc4738d8d1432ab67b620fb5508d6e": {
      "model_module": "@jupyter-widgets/base",
      "model_module_version": "1.2.0",
      "model_name": "LayoutModel",
      "state": {}
     },
     "afe4ae48b18f4035a5859b44a60e61b9": {
      "model_module": "@jupyter-widgets/controls",
      "model_module_version": "1.5.0",
      "model_name": "LabelModel",
      "state": {
       "layout": "IPY_MODEL_f62a836e8f494fcaa146b09be2b772e0",
       "style": "IPY_MODEL_975a921801e44925bf57b6c1807d8817",
       "value": "Progress for describe at NativeMethodAccessorImpl.java:0"
      }
     },
     "b034481d41a540a9a9df599011eef502": {
      "model_module": "@jupyter-widgets/base",
      "model_module_version": "1.2.0",
      "model_name": "LayoutModel",
      "state": {
       "width": "auto"
      }
     },
     "b0c7ea27387f468ba3ff837e98f0aa82": {
      "model_module": "@jupyter-widgets/base",
      "model_module_version": "1.2.0",
      "model_name": "LayoutModel",
      "state": {}
     },
     "b0fb9ccc52c248abb790c8d251a84d40": {
      "model_module": "@jupyter-widgets/controls",
      "model_module_version": "1.5.0",
      "model_name": "HBoxModel",
      "state": {
       "children": [
        "IPY_MODEL_a3a04de22f2649619a47b2066ff5bf72"
       ],
       "layout": "IPY_MODEL_9dd0cc8f6bfb44669e3013447c7e5873"
      }
     },
     "b103e2062a394d8d8c0296f708a4cfb9": {
      "model_module": "@jupyter-widgets/controls",
      "model_module_version": "1.5.0",
      "model_name": "VBoxModel",
      "state": {
       "children": [
        "IPY_MODEL_45c4b90a4f794e908d6bdec1292587f4",
        "IPY_MODEL_840e299a4ac447f7aafbe9804c17dbd8",
        "IPY_MODEL_107b8971aef34d99baea20bd83e27f27",
        "IPY_MODEL_89fc991402fc43d88581e09ba196900c",
        "IPY_MODEL_13411277af1641f7b31ba5f4d1b46a49"
       ],
       "layout": "IPY_MODEL_c2f419d6a225480b8b30fa379125ed99"
      }
     },
     "b135353c43e143529ea6a0c8ac977349": {
      "model_module": "@jupyter-widgets/base",
      "model_module_version": "1.2.0",
      "model_name": "LayoutModel",
      "state": {
       "justify_content": "space-around",
       "width": "19%"
      }
     },
     "b29433e3209e4847af4958308abd82d5": {
      "model_module": "@jupyter-widgets/base",
      "model_module_version": "1.2.0",
      "model_name": "LayoutModel",
      "state": {
       "width": "12%"
      }
     },
     "b39328a702d6450f848b178dfbf466f4": {
      "model_module": "@jupyter-widgets/controls",
      "model_module_version": "1.5.0",
      "model_name": "HBoxModel",
      "state": {
       "children": [
        "IPY_MODEL_41b36b75cedb4ab6beeb6273267cc65a"
       ],
       "layout": "IPY_MODEL_61c234f829af435b888e2f33eba7453b"
      }
     },
     "b3ca721fea584300a995f832d818ccf9": {
      "model_module": "@jupyter-widgets/base",
      "model_module_version": "1.2.0",
      "model_name": "LayoutModel",
      "state": {
       "max_height": "500px",
       "overflow_y": "scroll"
      }
     },
     "b49f2d8e0e7a4e049e68cb8d99ad311a": {
      "model_module": "@jupyter-widgets/controls",
      "model_module_version": "1.5.0",
      "model_name": "HTMLModel",
      "state": {
       "layout": "IPY_MODEL_3efcac8b048a4d99bc2260e52e93e723",
       "style": "IPY_MODEL_e9dcfa8ca02d49cf89769e654765ae7b",
       "value": "<emr-proxy-link application-id=\"application_1617185228881_0002\" emr-resource=\"j-2DCT800RO36JC\n\" job=\"5\"/>"
      }
     },
     "b4a36a3dcc7d4a86a03306955f6bc9b1": {
      "model_module": "@jupyter-widgets/controls",
      "model_module_version": "1.5.0",
      "model_name": "ButtonStyleModel",
      "state": {}
     },
     "b4d0b80adfcf496f9cfa6ea010677f33": {
      "model_module": "@jupyter-widgets/base",
      "model_module_version": "1.2.0",
      "model_name": "LayoutModel",
      "state": {
       "height": "25px",
       "width": "50%"
      }
     },
     "b4fa856885c34ea69abadba372b77a66": {
      "model_module": "@jupyter-widgets/base",
      "model_module_version": "1.2.0",
      "model_name": "LayoutModel",
      "state": {
       "border": "3px solid #5d6d7e"
      }
     },
     "b5da1a2818ed44419928f7484ea34ee3": {
      "model_module": "@jupyter-widgets/base",
      "model_module_version": "1.2.0",
      "model_name": "LayoutModel",
      "state": {}
     },
     "b623104767bf4a6eb6e1c227be8ea118": {
      "model_module": "@jupyter-widgets/base",
      "model_module_version": "1.2.0",
      "model_name": "LayoutModel",
      "state": {
       "width": "26%"
      }
     },
     "b669a1cd62034e7eae4f7bb74e4b6a9d": {
      "model_module": "@jupyter-widgets/controls",
      "model_module_version": "1.5.0",
      "model_name": "DescriptionStyleModel",
      "state": {
       "description_width": ""
      }
     },
     "b708dd29e65841dba1cdd06c30483e0b": {
      "model_module": "@jupyter-widgets/base",
      "model_module_version": "1.2.0",
      "model_name": "LayoutModel",
      "state": {}
     },
     "b785d4031e894a46b0273d9ce1a7d2a8": {
      "model_module": "@jupyter-widgets/base",
      "model_module_version": "1.2.0",
      "model_name": "LayoutModel",
      "state": {}
     },
     "b78b447b18db4438a64aeb6355e088b8": {
      "model_module": "@jupyter-widgets/controls",
      "model_module_version": "1.5.0",
      "model_name": "VBoxModel",
      "state": {
       "children": [
        "IPY_MODEL_35eaff010d31401ab4a34e4716cd3b57"
       ],
       "layout": "IPY_MODEL_5ef375ba4cf84680b43046035c2c5246"
      }
     },
     "b7bb3de816c9405ca7cf2ff519ac5ab9": {
      "model_module": "@jupyter-widgets/controls",
      "model_module_version": "1.5.0",
      "model_name": "LabelModel",
      "state": {
       "layout": "IPY_MODEL_163860ada8194f55aba9e22d1a06fc8b",
       "style": "IPY_MODEL_7bbc73f63c404d23bb15c047f0b8e8e1",
       "value": "Progress for load at NativeMethodAccessorImpl.java:0"
      }
     },
     "b832f16b2668478bb7f1cb406e27492a": {
      "model_module": "@jupyter-widgets/controls",
      "model_module_version": "1.5.0",
      "model_name": "AccordionModel",
      "state": {
       "_titles": {
        "0": "Spark Job Progress"
       },
       "children": [
        "IPY_MODEL_2f402679a4e444b1b05e34b48f37afbc"
       ],
       "layout": "IPY_MODEL_c426d8fffd6341f2ba8f2cd09bc51c85",
       "selected_index": null
      }
     },
     "b8668fdc18be4d2ea18458b00622a351": {
      "model_module": "@jupyter-widgets/base",
      "model_module_version": "1.2.0",
      "model_name": "LayoutModel",
      "state": {}
     },
     "b99023aac8994823b44f687420cf138d": {
      "model_module": "@jupyter-widgets/base",
      "model_module_version": "1.2.0",
      "model_name": "LayoutModel",
      "state": {
       "height": "25px",
       "width": "50%"
      }
     },
     "b9a4c8c5113744acb3a52dbdc6febcdd": {
      "model_module": "@jupyter-widgets/base",
      "model_module_version": "1.2.0",
      "model_name": "LayoutModel",
      "state": {}
     },
     "b9a82bf05ee640ab8f6ad071ca5073ac": {
      "model_module": "@jupyter-widgets/base",
      "model_module_version": "1.2.0",
      "model_name": "LayoutModel",
      "state": {
       "justify_content": "space-around",
       "width": "19%"
      }
     },
     "ba07e92068d54de4b6883e5daaff85b0": {
      "model_module": "@jupyter-widgets/controls",
      "model_module_version": "1.5.0",
      "model_name": "ButtonStyleModel",
      "state": {}
     },
     "bb1de168bef84a3ba4df55b1df51e7bc": {
      "model_module": "@jupyter-widgets/base",
      "model_module_version": "1.2.0",
      "model_name": "LayoutModel",
      "state": {
       "justify_content": "space-around",
       "width": "12%"
      }
     },
     "bb89607c34bf4cabae47cd790c6c79a9": {
      "model_module": "@jupyter-widgets/controls",
      "model_module_version": "1.5.0",
      "model_name": "HBoxModel",
      "state": {
       "children": [
        "IPY_MODEL_bf69aaeafe1847f1ba775c341bff6468"
       ],
       "layout": "IPY_MODEL_886a738e5c4647d28a14b89a0f8e61a9"
      }
     },
     "bbb1adca45d34b378387ce960d8c161a": {
      "model_module": "@jupyter-widgets/controls",
      "model_module_version": "1.5.0",
      "model_name": "AccordionModel",
      "state": {
       "_titles": {
        "0": "Spark Job Progress"
       },
       "children": [
        "IPY_MODEL_8352427e0d924228809f08c0a513f2a2"
       ],
       "layout": "IPY_MODEL_df55db8bb8aa46ee915a0b4893389d60",
       "selected_index": null
      }
     },
     "bc4a047a3a1a43f4a052990f10e557a1": {
      "model_module": "@jupyter-widgets/base",
      "model_module_version": "1.2.0",
      "model_name": "LayoutModel",
      "state": {}
     },
     "bc755738eb6c40608ee413f50e804d9b": {
      "model_module": "@jupyter-widgets/controls",
      "model_module_version": "1.5.0",
      "model_name": "HBoxModel",
      "state": {
       "layout": "IPY_MODEL_41d309315cbf4e878ee2b5d7d9831258"
      }
     },
     "bcf2b4aa71144ff58a30b324057de404": {
      "model_module": "@jupyter-widgets/base",
      "model_module_version": "1.2.0",
      "model_name": "LayoutModel",
      "state": {}
     },
     "bd64527dbc1f410397b5a5491927a2d9": {
      "model_module": "@jupyter-widgets/base",
      "model_module_version": "1.2.0",
      "model_name": "LayoutModel",
      "state": {
       "max_height": "500px",
       "overflow_y": "scroll"
      }
     },
     "bd72856f235a49a9b48e50457180c511": {
      "model_module": "@jupyter-widgets/base",
      "model_module_version": "1.2.0",
      "model_name": "LayoutModel",
      "state": {
       "width": "auto"
      }
     },
     "bd877ac7d56b433cb51d1710c9bcf2b3": {
      "model_module": "@jupyter-widgets/base",
      "model_module_version": "1.2.0",
      "model_name": "LayoutModel",
      "state": {
       "border": "3px solid #5d6d7e"
      }
     },
     "bd995321289d4fe3b16d691603aea760": {
      "model_module": "@jupyter-widgets/controls",
      "model_module_version": "1.5.0",
      "model_name": "HBoxModel",
      "state": {
       "children": [
        "IPY_MODEL_42417020019644a08775ac3fc4736568"
       ],
       "layout": "IPY_MODEL_5ab8517f5c174706a2286dfd853100dc"
      }
     },
     "be4f1c3dbcb24ffe9d44c351deb30e0b": {
      "model_module": "@jupyter-widgets/base",
      "model_module_version": "1.2.0",
      "model_name": "LayoutModel",
      "state": {}
     },
     "beaac7700db840a4a87c58ac54778bc0": {
      "model_module": "@jupyter-widgets/base",
      "model_module_version": "1.2.0",
      "model_name": "LayoutModel",
      "state": {
       "justify_content": "space-around",
       "width": "60%"
      }
     },
     "beafdf00d5524050aa23e53b01bcb37e": {
      "model_module": "@jupyter-widgets/controls",
      "model_module_version": "1.5.0",
      "model_name": "HBoxModel",
      "state": {
       "children": [
        "IPY_MODEL_e338591ce56b4556a60f3eff2bf4c660"
       ],
       "layout": "IPY_MODEL_f233dce02a8845c5a59b37432760d334"
      }
     },
     "bec5d53cf3f843d399aef13adbbeed94": {
      "model_module": "@jupyter-widgets/base",
      "model_module_version": "1.2.0",
      "model_name": "LayoutModel",
      "state": {}
     },
     "bf4f358594074a06a45da398166e4708": {
      "model_module": "@jupyter-widgets/controls",
      "model_module_version": "1.5.0",
      "model_name": "ButtonStyleModel",
      "state": {}
     },
     "bf59198ecdad44fd84cf4d2deb45fb38": {
      "model_module": "@jupyter-widgets/base",
      "model_module_version": "1.2.0",
      "model_name": "LayoutModel",
      "state": {}
     },
     "bf69aaeafe1847f1ba775c341bff6468": {
      "model_module": "@jupyter-widgets/controls",
      "model_module_version": "1.5.0",
      "model_name": "LabelModel",
      "state": {
       "layout": "IPY_MODEL_c265931789e24587bffb37838a3274aa",
       "style": "IPY_MODEL_70188467dd66463a9b803f76df8dd730",
       "value": "Stage [6]: describe at Nati...java:0"
      }
     },
     "c01d7aab2b2644a08c5029051e4299d0": {
      "model_module": "@jupyter-widgets/controls",
      "model_module_version": "1.5.0",
      "model_name": "ProgressStyleModel",
      "state": {
       "description_width": ""
      }
     },
     "c05ef881cad44c91a9abb14c77aa8190": {
      "model_module": "@jupyter-widgets/base",
      "model_module_version": "1.2.0",
      "model_name": "LayoutModel",
      "state": {
       "width": "19%"
      }
     },
     "c09f653fc8f943a69ff8028802e5d83c": {
      "model_module": "@jupyter-widgets/controls",
      "model_module_version": "1.5.0",
      "model_name": "ProgressStyleModel",
      "state": {
       "description_width": ""
      }
     },
     "c14a86456f1f4cf89ee9b76a7d056b50": {
      "model_module": "@jupyter-widgets/base",
      "model_module_version": "1.2.0",
      "model_name": "LayoutModel",
      "state": {
       "width": "auto"
      }
     },
     "c1acbf80de694772a32c8277b75a436b": {
      "model_module": "@jupyter-widgets/base",
      "model_module_version": "1.2.0",
      "model_name": "LayoutModel",
      "state": {
       "border": "3px solid #232f3c",
       "justify_content": "space-around"
      }
     },
     "c1adad0bbe494d3d8000674a5fa1282e": {
      "model_module": "@jupyter-widgets/base",
      "model_module_version": "1.2.0",
      "model_name": "LayoutModel",
      "state": {
       "border": "3px solid #232f3c",
       "justify_content": "flex-start"
      }
     },
     "c1f5c475ee324d64831ec9a06eb1ffe7": {
      "model_module": "@jupyter-widgets/base",
      "model_module_version": "1.2.0",
      "model_name": "LayoutModel",
      "state": {
       "max_height": "500px",
       "overflow_y": "scroll"
      }
     },
     "c2179379d4474ece975037f85f5c6847": {
      "model_module": "@jupyter-widgets/base",
      "model_module_version": "1.2.0",
      "model_name": "LayoutModel",
      "state": {
       "width": "100%"
      }
     },
     "c23806b276974965b78c8faa664d6405": {
      "model_module": "@jupyter-widgets/controls",
      "model_module_version": "1.5.0",
      "model_name": "HBoxModel",
      "state": {
       "children": [
        "IPY_MODEL_bb89607c34bf4cabae47cd790c6c79a9",
        "IPY_MODEL_86495b2dc1aa4b7383b91fcae7ae8d84",
        "IPY_MODEL_2050e9cfaca44d1ab3613e4180dcd355",
        "IPY_MODEL_fb971c28d2194353bd7ff7d24423d58c",
        "IPY_MODEL_e2088f891b3b4d79ac284bc56f417b91"
       ],
       "layout": "IPY_MODEL_789a798fa2a3485b86b4ba0853d959b8"
      }
     },
     "c265931789e24587bffb37838a3274aa": {
      "model_module": "@jupyter-widgets/base",
      "model_module_version": "1.2.0",
      "model_name": "LayoutModel",
      "state": {
       "width": "100%"
      }
     },
     "c26e472c5d384518ad4ec7772f37af3f": {
      "model_module": "@jupyter-widgets/base",
      "model_module_version": "1.2.0",
      "model_name": "LayoutModel",
      "state": {
       "width": "12%"
      }
     },
     "c290bb365b3f4f2db245e3422abf4392": {
      "model_module": "@jupyter-widgets/controls",
      "model_module_version": "1.5.0",
      "model_name": "ButtonModel",
      "state": {
       "description": "Task Progress",
       "layout": "IPY_MODEL_f08b321ec2f544d58ff640699df20d96",
       "style": "IPY_MODEL_1c16cfa2d6464b9187aec5a950d53d3b"
      }
     },
     "c2f419d6a225480b8b30fa379125ed99": {
      "model_module": "@jupyter-widgets/base",
      "model_module_version": "1.2.0",
      "model_name": "LayoutModel",
      "state": {}
     },
     "c36123b1f6004ce59b6ce0f5ba871ae5": {
      "model_module": "@jupyter-widgets/controls",
      "model_module_version": "1.5.0",
      "model_name": "DescriptionStyleModel",
      "state": {
       "description_width": ""
      }
     },
     "c426d8fffd6341f2ba8f2cd09bc51c85": {
      "model_module": "@jupyter-widgets/base",
      "model_module_version": "1.2.0",
      "model_name": "LayoutModel",
      "state": {}
     },
     "c4fff37366fb477ea8073c6af980b214": {
      "model_module": "@jupyter-widgets/base",
      "model_module_version": "1.2.0",
      "model_name": "LayoutModel",
      "state": {
       "height": "25px",
       "width": "50%"
      }
     },
     "c5d42f58e7254782ba4bd6a17b8e28f7": {
      "model_module": "@jupyter-widgets/base",
      "model_module_version": "1.2.0",
      "model_name": "LayoutModel",
      "state": {
       "justify_content": "space-around",
       "width": "14%"
      }
     },
     "c6c96317da554462bf153e12126d69e8": {
      "model_module": "@jupyter-widgets/controls",
      "model_module_version": "1.5.0",
      "model_name": "HBoxModel",
      "state": {
       "children": [
        "IPY_MODEL_ff23bf05755549ac8fa0375112f0eeea",
        "IPY_MODEL_178d4a049eaf4c74a14766eba2aa5627"
       ],
       "layout": "IPY_MODEL_0aba0a37747a4c5b8798490583e34791"
      }
     },
     "c77ad4a04643445796979deaa33f88bc": {
      "model_module": "@jupyter-widgets/base",
      "model_module_version": "1.2.0",
      "model_name": "LayoutModel",
      "state": {}
     },
     "c78bd848f9374b78b63de2fad15d3e75": {
      "model_module": "@jupyter-widgets/controls",
      "model_module_version": "1.5.0",
      "model_name": "ButtonModel",
      "state": {
       "description": "Status",
       "layout": "IPY_MODEL_284abca8513e4036a24132d64229f1c7",
       "style": "IPY_MODEL_0ed5df77e06a4e6fb3cf84cd5a219c6f"
      }
     },
     "c7a6438657374838b883c8f07a64cbe2": {
      "model_module": "@jupyter-widgets/base",
      "model_module_version": "1.2.0",
      "model_name": "LayoutModel",
      "state": {}
     },
     "c7cde6dea71e42e59ae4e7e97089c6bf": {
      "model_module": "@jupyter-widgets/base",
      "model_module_version": "1.2.0",
      "model_name": "LayoutModel",
      "state": {}
     },
     "c8026a01f0dd4e448bea2e060cdba13e": {
      "model_module": "@jupyter-widgets/base",
      "model_module_version": "1.2.0",
      "model_name": "LayoutModel",
      "state": {}
     },
     "c8feae68af99419b9df005021a975d6e": {
      "model_module": "@jupyter-widgets/controls",
      "model_module_version": "1.5.0",
      "model_name": "VBoxModel",
      "state": {
       "children": [
        "IPY_MODEL_411be17722424fa8b9cf0b90323d3c57"
       ],
       "layout": "IPY_MODEL_be4f1c3dbcb24ffe9d44c351deb30e0b"
      }
     },
     "c996f3df34104018af7c75fc9a587813": {
      "model_module": "@jupyter-widgets/controls",
      "model_module_version": "1.5.0",
      "model_name": "IntProgressModel",
      "state": {
       "bar_style": "success",
       "description": "2/2",
       "layout": "IPY_MODEL_89b1a1c152ad42f1886544c8c0c9af9c",
       "max": 2,
       "style": "IPY_MODEL_fb715b40aa1546ab8904459bbac5df65",
       "value": 2
      }
     },
     "ca25e3dca66c4d538332c55e87e8d3f3": {
      "model_module": "@jupyter-widgets/controls",
      "model_module_version": "1.5.0",
      "model_name": "DescriptionStyleModel",
      "state": {
       "description_width": ""
      }
     },
     "ca2d4c55152e40ea84bfc506050d585f": {
      "model_module": "@jupyter-widgets/controls",
      "model_module_version": "1.5.0",
      "model_name": "DescriptionStyleModel",
      "state": {
       "description_width": ""
      }
     },
     "cb0da4156a5c4092ac5a8266eafef16c": {
      "model_module": "@jupyter-widgets/base",
      "model_module_version": "1.2.0",
      "model_name": "LayoutModel",
      "state": {}
     },
     "cb8f2784427c45848722f26365380e9b": {
      "model_module": "@jupyter-widgets/base",
      "model_module_version": "1.2.0",
      "model_name": "LayoutModel",
      "state": {
       "width": "14%"
      }
     },
     "cbf61ac054954ea1afb966ffdd114d53": {
      "model_module": "@jupyter-widgets/controls",
      "model_module_version": "1.5.0",
      "model_name": "AccordionModel",
      "state": {
       "_dom_classes": [
        "emr-spark-monitoring-job-accordion"
       ],
       "_titles": {
        "0": "Job [5]: take at <stdin>:6"
       },
       "children": [
        "IPY_MODEL_677fad1f92e44056a7907c662720711a"
       ],
       "layout": "IPY_MODEL_9f57132af4c24b85a31d5bba2c347368"
      }
     },
     "cc46dec732734d5baeec3b03ac6e0764": {
      "model_module": "@jupyter-widgets/base",
      "model_module_version": "1.2.0",
      "model_name": "LayoutModel",
      "state": {}
     },
     "cd0a85be74404cd8860b986d431092e5": {
      "model_module": "@jupyter-widgets/base",
      "model_module_version": "1.2.0",
      "model_name": "LayoutModel",
      "state": {
       "justify_content": "space-around",
       "width": "12%"
      }
     },
     "cd3094ee78dd4deda8deda0942a4b47f": {
      "model_module": "@jupyter-widgets/base",
      "model_module_version": "1.2.0",
      "model_name": "LayoutModel",
      "state": {
       "width": "auto"
      }
     },
     "cdb458e49bf840df86ba2e01aaaa4a72": {
      "model_module": "@jupyter-widgets/controls",
      "model_module_version": "1.5.0",
      "model_name": "HBoxModel",
      "state": {
       "children": [
        "IPY_MODEL_0689204bda8046c1accf2de48fd5b06f"
       ],
       "layout": "IPY_MODEL_d4761a4dea774c24bb4fd7865090f8bd"
      }
     },
     "cdb56c3656494c2f81ba584fd0e5de18": {
      "model_module": "@jupyter-widgets/controls",
      "model_module_version": "1.5.0",
      "model_name": "ProgressStyleModel",
      "state": {
       "description_width": ""
      }
     },
     "ce20163e8f1c47f3a7bdd243d59898ea": {
      "model_module": "@jupyter-widgets/controls",
      "model_module_version": "1.5.0",
      "model_name": "LabelModel",
      "state": {
       "layout": "IPY_MODEL_3c77321eb81a4e56bcb3ae02005d6b5b",
       "style": "IPY_MODEL_f7d82a00093843beaefa3c52cec56a98",
       "value": "2.946"
      }
     },
     "ce502d26acca492491c0f5f11e643888": {
      "model_module": "@jupyter-widgets/controls",
      "model_module_version": "1.5.0",
      "model_name": "ButtonStyleModel",
      "state": {}
     },
     "cf4e13e5fa1e4b5f9fe36ebd39793350": {
      "model_module": "@jupyter-widgets/base",
      "model_module_version": "1.2.0",
      "model_name": "LayoutModel",
      "state": {}
     },
     "d0fce344b79f49cfa80d943cfec812f1": {
      "model_module": "@jupyter-widgets/controls",
      "model_module_version": "1.5.0",
      "model_name": "ButtonModel",
      "state": {
       "description": "Elapsed Time (seconds)",
       "layout": "IPY_MODEL_fdb5a7a34ded40ad84f0c8add4afc7e3",
       "style": "IPY_MODEL_437af46e319540b088a651fe3448681a"
      }
     },
     "d17ce668aab24158b80096cde6bac4fd": {
      "model_module": "@jupyter-widgets/controls",
      "model_module_version": "1.5.0",
      "model_name": "ProgressStyleModel",
      "state": {
       "description_width": ""
      }
     },
     "d241d86cd45d4a3bb3622d026a3ae121": {
      "model_module": "@jupyter-widgets/base",
      "model_module_version": "1.2.0",
      "model_name": "LayoutModel",
      "state": {
       "max_height": "500px",
       "overflow_y": "scroll"
      }
     },
     "d2438a3eeded44bbbf33272f11f19f1d": {
      "model_module": "@jupyter-widgets/base",
      "model_module_version": "1.2.0",
      "model_name": "LayoutModel",
      "state": {}
     },
     "d2ea22a723124ac39b960fce6183c29f": {
      "model_module": "@jupyter-widgets/base",
      "model_module_version": "1.2.0",
      "model_name": "LayoutModel",
      "state": {
       "justify_content": "space-around",
       "width": "12%"
      }
     },
     "d3bf3ce30c974443853a70ebbf40fda1": {
      "model_module": "@jupyter-widgets/controls",
      "model_module_version": "1.5.0",
      "model_name": "ProgressStyleModel",
      "state": {
       "description_width": ""
      }
     },
     "d3ecb3d74c62452fb50a719c0c017b45": {
      "model_module": "@jupyter-widgets/controls",
      "model_module_version": "1.5.0",
      "model_name": "AccordionModel",
      "state": {
       "_dom_classes": [
        "emr-spark-monitoring-job-accordion"
       ],
       "_titles": {
        "0": "Job [3]: load at NativeMethodAccessorImpl.java:0"
       },
       "children": [
        "IPY_MODEL_5621517254394f178d13cc6c8ba3df28"
       ],
       "layout": "IPY_MODEL_371236dbdaf2445d97a2acd8bba40678"
      }
     },
     "d4439829dd0e4c9c8802bb0e6a6c0c6a": {
      "model_module": "@jupyter-widgets/base",
      "model_module_version": "1.2.0",
      "model_name": "LayoutModel",
      "state": {}
     },
     "d46ceebdab0b404699bffb5fd9db6465": {
      "model_module": "@jupyter-widgets/controls",
      "model_module_version": "1.5.0",
      "model_name": "DescriptionStyleModel",
      "state": {
       "description_width": ""
      }
     },
     "d46e576d658f4724a0bfed474c2b04d9": {
      "model_module": "@jupyter-widgets/controls",
      "model_module_version": "1.5.0",
      "model_name": "HBoxModel",
      "state": {
       "children": [
        "IPY_MODEL_e744fbaf9f12495fb88d30d31d857b26",
        "IPY_MODEL_204aa4ea89bc41e6b1f7a9ccddf23eec",
        "IPY_MODEL_4b04de19951a4d60a435b5b4330d6b3b",
        "IPY_MODEL_3929c84cf0504c7d92689f951a8c984e",
        "IPY_MODEL_a3740ad4b0584be297512c0f9da3eb4a"
       ],
       "layout": "IPY_MODEL_a3c480a6481d48c9a7a58e421cda63cc"
      }
     },
     "d4761a4dea774c24bb4fd7865090f8bd": {
      "model_module": "@jupyter-widgets/base",
      "model_module_version": "1.2.0",
      "model_name": "LayoutModel",
      "state": {
       "justify_content": "space-around",
       "width": "14%"
      }
     },
     "d4872e3525df4fd69710d58813f051e4": {
      "model_module": "@jupyter-widgets/controls",
      "model_module_version": "1.5.0",
      "model_name": "VBoxModel",
      "state": {
       "children": [
        "IPY_MODEL_49fad09c25fa4443ba4898267bce77b0",
        "IPY_MODEL_292e98de6d9444b1aca12b7ec0d7d61a",
        "IPY_MODEL_2110bc1b814b4abd93244297ab97ae03",
        "IPY_MODEL_3d97346722864b7bbdeb76a398df1063",
        "IPY_MODEL_1fcce0c353b04882b973c03ec24b6405"
       ],
       "layout": "IPY_MODEL_fdd4ac374035493e8414a7bea1bbdaee"
      }
     },
     "d508f50e10d84535b53d75675b1c2f50": {
      "model_module": "@jupyter-widgets/base",
      "model_module_version": "1.2.0",
      "model_name": "LayoutModel",
      "state": {}
     },
     "d5233a224f2844439974333a9713f8a5": {
      "model_module": "@jupyter-widgets/controls",
      "model_module_version": "1.5.0",
      "model_name": "VBoxModel",
      "state": {
       "children": [
        "IPY_MODEL_a1d900659045422389c529512455b895"
       ],
       "layout": "IPY_MODEL_69fcf0aaa2224228b772b10bbb675d6e"
      }
     },
     "d6ac25cbc7c34adfbca41389848195f3": {
      "model_module": "@jupyter-widgets/controls",
      "model_module_version": "1.5.0",
      "model_name": "AccordionModel",
      "state": {
       "_dom_classes": [
        "emr-spark-monitoring-job-accordion"
       ],
       "_titles": {
        "0": "Job [6]: describe at NativeMethodAccessorImpl.java:0"
       },
       "children": [
        "IPY_MODEL_b103e2062a394d8d8c0296f708a4cfb9"
       ],
       "layout": "IPY_MODEL_fd521294b4d5472c8eb36eae56217755"
      }
     },
     "d7bf40a9a6444209b592df7aaf6c6e77": {
      "model_module": "@jupyter-widgets/controls",
      "model_module_version": "1.5.0",
      "model_name": "ButtonStyleModel",
      "state": {}
     },
     "d86f375e63924a60955d60da2cac70bf": {
      "model_module": "@jupyter-widgets/controls",
      "model_module_version": "1.5.0",
      "model_name": "ButtonModel",
      "state": {
       "description": "Elapsed Time (seconds)",
       "layout": "IPY_MODEL_9404b67f65a5439bb3a5cac92bced175",
       "style": "IPY_MODEL_5e7eb5e705554a01a96f70285f803daf"
      }
     },
     "d893e5acf2324f0e978c1c0c8ecc9f70": {
      "model_module": "@jupyter-widgets/base",
      "model_module_version": "1.2.0",
      "model_name": "LayoutModel",
      "state": {
       "width": "40%"
      }
     },
     "d9d293956ee041c2b655dcca7ce8998f": {
      "model_module": "@jupyter-widgets/controls",
      "model_module_version": "1.5.0",
      "model_name": "ButtonModel",
      "state": {
       "description": "SKIPPED",
       "layout": "IPY_MODEL_39a29eda61b84f05bd6c3dcdb48b003a",
       "style": "IPY_MODEL_5b9b82732a2b4889b839097019908bde"
      }
     },
     "d9e6634cac264d01a67e0ea7e2b5f66b": {
      "model_module": "@jupyter-widgets/controls",
      "model_module_version": "1.5.0",
      "model_name": "LabelModel",
      "state": {
       "layout": "IPY_MODEL_45a97c672a954b73bda4472ece06efca",
       "style": "IPY_MODEL_3c14d60808f349699e9a5f8fbce25f27",
       "value": "Job Progress: 2/2 Tasks Complete"
      }
     },
     "da2078a82f1e4fe3921a59a73b54bca2": {
      "model_module": "@jupyter-widgets/controls",
      "model_module_version": "1.5.0",
      "model_name": "HBoxModel",
      "state": {
       "children": [
        "IPY_MODEL_593aa5a81a6b4cfcba6c042cd598602a",
        "IPY_MODEL_042ae275ba6c47cb962659f967a52914",
        "IPY_MODEL_c290bb365b3f4f2db245e3422abf4392",
        "IPY_MODEL_d86f375e63924a60955d60da2cac70bf",
        "IPY_MODEL_6eec754525b54eee92d91e7aca712eab"
       ],
       "layout": "IPY_MODEL_c1adad0bbe494d3d8000674a5fa1282e"
      }
     },
     "dac33684689441dd9cdf1ef32e007282": {
      "model_module": "@jupyter-widgets/base",
      "model_module_version": "1.2.0",
      "model_name": "LayoutModel",
      "state": {}
     },
     "dba40055e9ec404d9812b409cdc118fd": {
      "model_module": "@jupyter-widgets/base",
      "model_module_version": "1.2.0",
      "model_name": "LayoutModel",
      "state": {
       "border": "3px solid #5d6d7e"
      }
     },
     "dbe1e19dba23453886cb27906df131a1": {
      "model_module": "@jupyter-widgets/controls",
      "model_module_version": "1.5.0",
      "model_name": "VBoxModel",
      "state": {
       "children": [
        "IPY_MODEL_9111015d841f46ff824b4a5184474513"
       ],
       "layout": "IPY_MODEL_97180461b033480e86209979bb4ce23b"
      }
     },
     "dbf9a054243a4f03bd7e517e598a2ea4": {
      "model_module": "@jupyter-widgets/controls",
      "model_module_version": "1.5.0",
      "model_name": "VBoxModel",
      "state": {
       "layout": "IPY_MODEL_21c5d216706e4c0793321b739373cdb9"
      }
     },
     "dc1df474fabd44588147ecf92afe73f0": {
      "model_module": "@jupyter-widgets/base",
      "model_module_version": "1.2.0",
      "model_name": "LayoutModel",
      "state": {
       "height": "25px",
       "width": "50%"
      }
     },
     "dc392298eff644f48b8f048f9d17e13f": {
      "model_module": "@jupyter-widgets/base",
      "model_module_version": "1.2.0",
      "model_name": "LayoutModel",
      "state": {
       "width": "14%"
      }
     },
     "dc5d37bfbd3841ff96cd84559df35d18": {
      "model_module": "@jupyter-widgets/base",
      "model_module_version": "1.2.0",
      "model_name": "LayoutModel",
      "state": {}
     },
     "dcac8dacb5f24e69b05bb21f34d8caf0": {
      "model_module": "@jupyter-widgets/controls",
      "model_module_version": "1.5.0",
      "model_name": "ButtonModel",
      "state": {
       "description": "Task Progress",
       "layout": "IPY_MODEL_14ea8a9ea26947cb875cc2ae61f0d362",
       "style": "IPY_MODEL_9a819aa102f34e24ae1a99c3f3bee83c"
      }
     },
     "dd939156a2c14128a13ba5e67edcf8ed": {
      "model_module": "@jupyter-widgets/controls",
      "model_module_version": "1.5.0",
      "model_name": "ButtonModel",
      "state": {
       "button_style": "success",
       "description": "COMPLETE",
       "layout": "IPY_MODEL_382f3e0536354ecabbffb4895fb1ef18",
       "style": "IPY_MODEL_6b5f065aba734f94a842aa03d25a1f7f"
      }
     },
     "de713cbc90ad497a8214d790aced3d8a": {
      "model_module": "@jupyter-widgets/base",
      "model_module_version": "1.2.0",
      "model_name": "LayoutModel",
      "state": {
       "max_height": "200px",
       "overflow_y": "scroll"
      }
     },
     "df3d6c6d6d17430f9042946f82c95ff5": {
      "model_module": "@jupyter-widgets/base",
      "model_module_version": "1.2.0",
      "model_name": "LayoutModel",
      "state": {}
     },
     "df55db8bb8aa46ee915a0b4893389d60": {
      "model_module": "@jupyter-widgets/base",
      "model_module_version": "1.2.0",
      "model_name": "LayoutModel",
      "state": {}
     },
     "df59032a81364e0d9c2a5e79c451dc1b": {
      "model_module": "@jupyter-widgets/controls",
      "model_module_version": "1.5.0",
      "model_name": "HBoxModel",
      "state": {
       "children": [
        "IPY_MODEL_891f263c499745189680f1a4febcdf97",
        "IPY_MODEL_6b480508e2914c9f9d7f486e6faa9d09"
       ],
       "layout": "IPY_MODEL_4fffdb2a60fb470e91adbce081a9b35d"
      }
     },
     "dfed9213104943e997dc5c158f122f39": {
      "model_module": "@jupyter-widgets/controls",
      "model_module_version": "1.5.0",
      "model_name": "HTMLModel",
      "state": {
       "layout": "IPY_MODEL_8b6274c5255149a386dfcd7096d3c717",
       "style": "IPY_MODEL_e40504cde65a4fe9b77574b7c7389b48",
       "value": "<emr-proxy-link application-id=\"application_1617185228881_0002\" emr-resource=\"j-2DCT800RO36JC\n\" job=\"4\"/>"
      }
     },
     "e019e1326a2c463eba39dcb98c6ebd7c": {
      "model_module": "@jupyter-widgets/base",
      "model_module_version": "1.2.0",
      "model_name": "LayoutModel",
      "state": {
       "height": "25px",
       "width": "50%"
      }
     },
     "e05a719c7e2d4c73b65bcfd13fbce70d": {
      "model_module": "@jupyter-widgets/controls",
      "model_module_version": "1.5.0",
      "model_name": "HBoxModel",
      "state": {
       "children": [
        "IPY_MODEL_00eda1d2d88b44a5ad638c89cebdaa12",
        "IPY_MODEL_c78bd848f9374b78b63de2fad15d3e75",
        "IPY_MODEL_a876b57bb7b9486b8ba259488c3b2eb6",
        "IPY_MODEL_d0fce344b79f49cfa80d943cfec812f1",
        "IPY_MODEL_26ef038d170d4e8db0c761e7c58086d5"
       ],
       "layout": "IPY_MODEL_218504e489e74b63aabaf02c961a1aff"
      }
     },
     "e0d4fc31a7574b23835e9c8717dadef0": {
      "model_module": "@jupyter-widgets/base",
      "model_module_version": "1.2.0",
      "model_name": "LayoutModel",
      "state": {
       "width": "auto"
      }
     },
     "e2088f891b3b4d79ac284bc56f417b91": {
      "model_module": "@jupyter-widgets/controls",
      "model_module_version": "1.5.0",
      "model_name": "HBoxModel",
      "state": {
       "children": [
        "IPY_MODEL_90c0da07cdfa4d91be2bb9d387d8ddba"
       ],
       "layout": "IPY_MODEL_f2eebb3549a04695bf6eb060dbb2cb8c"
      }
     },
     "e2af4b7351094166b35a5415021f4102": {
      "model_module": "@jupyter-widgets/base",
      "model_module_version": "1.2.0",
      "model_name": "LayoutModel",
      "state": {}
     },
     "e338591ce56b4556a60f3eff2bf4c660": {
      "model_module": "@jupyter-widgets/controls",
      "model_module_version": "1.5.0",
      "model_name": "LabelModel",
      "state": {
       "layout": "IPY_MODEL_179915589e2d42578964c8c722bfcfff",
       "style": "IPY_MODEL_c36123b1f6004ce59b6ce0f5ba871ae5",
       "value": "Stage [7]: describe at Nati...java:0"
      }
     },
     "e36d3028b2774e61a84243d766c5e1eb": {
      "model_module": "@jupyter-widgets/controls",
      "model_module_version": "1.5.0",
      "model_name": "HBoxModel",
      "state": {
       "children": [
        "IPY_MODEL_b7bb3de816c9405ca7cf2ff519ac5ab9",
        "IPY_MODEL_df59032a81364e0d9c2a5e79c451dc1b"
       ],
       "layout": "IPY_MODEL_155e61c2781c4140b46f07630a63917d"
      }
     },
     "e40504cde65a4fe9b77574b7c7389b48": {
      "model_module": "@jupyter-widgets/controls",
      "model_module_version": "1.5.0",
      "model_name": "DescriptionStyleModel",
      "state": {
       "description_width": ""
      }
     },
     "e472fb13bb414b9ea4ce2ce0c26af3a3": {
      "model_module": "@jupyter-widgets/controls",
      "model_module_version": "1.5.0",
      "model_name": "DescriptionStyleModel",
      "state": {
       "description_width": ""
      }
     },
     "e483e45646f44c6f846fb8c90ac9157e": {
      "model_module": "@jupyter-widgets/base",
      "model_module_version": "1.2.0",
      "model_name": "LayoutModel",
      "state": {
       "width": "60%"
      }
     },
     "e4bc7b09b6ea4b78ae370fb7d121d7c1": {
      "model_module": "@jupyter-widgets/controls",
      "model_module_version": "1.5.0",
      "model_name": "LabelModel",
      "state": {
       "layout": "IPY_MODEL_cd3094ee78dd4deda8deda0942a4b47f",
       "style": "IPY_MODEL_b669a1cd62034e7eae4f7bb74e4b6a9d",
       "value": "0.263"
      }
     },
     "e5777548473d41cb81faf5adedf8fa92": {
      "model_module": "@jupyter-widgets/base",
      "model_module_version": "1.2.0",
      "model_name": "LayoutModel",
      "state": {
       "justify_content": "space-around",
       "width": "60%"
      }
     },
     "e598102d691249e99ba7860fba0336a7": {
      "model_module": "@jupyter-widgets/base",
      "model_module_version": "1.2.0",
      "model_name": "LayoutModel",
      "state": {}
     },
     "e6e597654d3e4b34af76efa2c154c599": {
      "model_module": "@jupyter-widgets/controls",
      "model_module_version": "1.5.0",
      "model_name": "VBoxModel",
      "state": {
       "children": [
        "IPY_MODEL_dfed9213104943e997dc5c158f122f39",
        "IPY_MODEL_e36d3028b2774e61a84243d766c5e1eb",
        "IPY_MODEL_147b371e75c542a08b969754d3132021",
        "IPY_MODEL_387679a366dd4891be8642a757b5a436",
        "IPY_MODEL_dbe1e19dba23453886cb27906df131a1"
       ],
       "layout": "IPY_MODEL_bec5d53cf3f843d399aef13adbbeed94"
      }
     },
     "e6f6a79e1bc948419e72b16bd28b46d9": {
      "model_module": "@jupyter-widgets/controls",
      "model_module_version": "1.5.0",
      "model_name": "VBoxModel",
      "state": {
       "children": [
        "IPY_MODEL_d46e576d658f4724a0bfed474c2b04d9"
       ],
       "layout": "IPY_MODEL_56faca4b19964698917431dc4d037320"
      }
     },
     "e744fbaf9f12495fb88d30d31d857b26": {
      "model_module": "@jupyter-widgets/controls",
      "model_module_version": "1.5.0",
      "model_name": "HBoxModel",
      "state": {
       "children": [
        "IPY_MODEL_26754152c73e4a3cadae2d49da0c3474"
       ],
       "layout": "IPY_MODEL_5855d985e2794cabade3067361aade8b"
      }
     },
     "e7767961688c418497331e00f7a22191": {
      "model_module": "@jupyter-widgets/base",
      "model_module_version": "1.2.0",
      "model_name": "LayoutModel",
      "state": {}
     },
     "e7a09a7c0d8c4eacbf76ad7ed6a747ef": {
      "model_module": "@jupyter-widgets/controls",
      "model_module_version": "1.5.0",
      "model_name": "VBoxModel",
      "state": {
       "layout": "IPY_MODEL_a8dd74e4967841238fcaf42e4c5ce135"
      }
     },
     "e8028e993a9b417faeda511f8d6c7c24": {
      "model_module": "@jupyter-widgets/controls",
      "model_module_version": "1.5.0",
      "model_name": "DescriptionStyleModel",
      "state": {
       "description_width": ""
      }
     },
     "e8fc014d8c714fdcb30c1876a7a9c231": {
      "model_module": "@jupyter-widgets/controls",
      "model_module_version": "1.5.0",
      "model_name": "ButtonModel",
      "state": {
       "description": "Status",
       "layout": "IPY_MODEL_93e4b1450a484a5ab8fb2872535c2c98",
       "style": "IPY_MODEL_4e2044ddc0364cdaa41a99755965cfd9"
      }
     },
     "e9dcfa8ca02d49cf89769e654765ae7b": {
      "model_module": "@jupyter-widgets/controls",
      "model_module_version": "1.5.0",
      "model_name": "DescriptionStyleModel",
      "state": {
       "description_width": ""
      }
     },
     "e9e053c211c44470a1e017629c7e0191": {
      "model_module": "@jupyter-widgets/controls",
      "model_module_version": "1.5.0",
      "model_name": "DescriptionStyleModel",
      "state": {
       "description_width": ""
      }
     },
     "ea80d1e8bed0430492e61596f02e947b": {
      "model_module": "@jupyter-widgets/controls",
      "model_module_version": "1.5.0",
      "model_name": "AccordionModel",
      "state": {
       "_titles": {
        "0": "Spark Job Progress"
       },
       "children": [
        "IPY_MODEL_a16ef7f2ee8b474a9b2d825f18bd95f1"
       ],
       "layout": "IPY_MODEL_bc4a047a3a1a43f4a052990f10e557a1",
       "selected_index": null
      }
     },
     "ea84fc12778547edb4511a6ec04aeb66": {
      "model_module": "@jupyter-widgets/controls",
      "model_module_version": "1.5.0",
      "model_name": "AccordionModel",
      "state": {
       "_dom_classes": [
        "emr-spark-monitoring-job-accordion"
       ],
       "_titles": {
        "0": "Job [4]: load at NativeMethodAccessorImpl.java:0"
       },
       "children": [
        "IPY_MODEL_e6e597654d3e4b34af76efa2c154c599"
       ],
       "layout": "IPY_MODEL_9e61a9ae020547c3b6e230c93bcfe383"
      }
     },
     "ea9cd72166684b2eab22dfb161ddaeab": {
      "model_module": "@jupyter-widgets/controls",
      "model_module_version": "1.5.0",
      "model_name": "VBoxModel",
      "state": {
       "layout": "IPY_MODEL_4bd6f0df4b3f4de6a390914d0b8caf49"
      }
     },
     "eb990fd9b7ce44cbab037d2c5603fdbd": {
      "model_module": "@jupyter-widgets/base",
      "model_module_version": "1.2.0",
      "model_name": "LayoutModel",
      "state": {
       "width": "100%"
      }
     },
     "ed1f07e5990342e08683f1ab105bb334": {
      "model_module": "@jupyter-widgets/base",
      "model_module_version": "1.2.0",
      "model_name": "LayoutModel",
      "state": {}
     },
     "ee70c148a3c64f68af27a05af8792d56": {
      "model_module": "@jupyter-widgets/controls",
      "model_module_version": "1.5.0",
      "model_name": "VBoxModel",
      "state": {
       "children": [
        "IPY_MODEL_d6ac25cbc7c34adfbca41389848195f3",
        "IPY_MODEL_66a4a8695bd8425db78ae8a0491dd6d1"
       ],
       "layout": "IPY_MODEL_13c1eb2dfff54ea19f12728b895cc093"
      }
     },
     "ee7be47c9b8e44f89215226ecf8c6a1f": {
      "model_module": "@jupyter-widgets/controls",
      "model_module_version": "1.5.0",
      "model_name": "DescriptionStyleModel",
      "state": {
       "description_width": ""
      }
     },
     "eec87419bbdf4437a628cca1d713d4f8": {
      "model_module": "@jupyter-widgets/base",
      "model_module_version": "1.2.0",
      "model_name": "LayoutModel",
      "state": {}
     },
     "ef29c557ba4d49b59c1a52560dc399ca": {
      "model_module": "@jupyter-widgets/base",
      "model_module_version": "1.2.0",
      "model_name": "LayoutModel",
      "state": {}
     },
     "efbe7e759883424d8634b4ea24c3f157": {
      "model_module": "@jupyter-widgets/controls",
      "model_module_version": "1.5.0",
      "model_name": "VBoxModel",
      "state": {
       "children": [
        "IPY_MODEL_330967167a4e489799b1141132c39b65"
       ],
       "layout": "IPY_MODEL_d4439829dd0e4c9c8802bb0e6a6c0c6a"
      }
     },
     "f08b321ec2f544d58ff640699df20d96": {
      "model_module": "@jupyter-widgets/base",
      "model_module_version": "1.2.0",
      "model_name": "LayoutModel",
      "state": {
       "width": "29%"
      }
     },
     "f0d3fce041d941b18cee6e27819f1fb8": {
      "model_module": "@jupyter-widgets/controls",
      "model_module_version": "1.5.0",
      "model_name": "ButtonStyleModel",
      "state": {}
     },
     "f1edde089f774bd88d31f616bc0db273": {
      "model_module": "@jupyter-widgets/controls",
      "model_module_version": "1.5.0",
      "model_name": "ProgressStyleModel",
      "state": {
       "description_width": ""
      }
     },
     "f233dce02a8845c5a59b37432760d334": {
      "model_module": "@jupyter-widgets/base",
      "model_module_version": "1.2.0",
      "model_name": "LayoutModel",
      "state": {
       "justify_content": "space-around",
       "width": "26%"
      }
     },
     "f2eebb3549a04695bf6eb060dbb2cb8c": {
      "model_module": "@jupyter-widgets/base",
      "model_module_version": "1.2.0",
      "model_name": "LayoutModel",
      "state": {
       "justify_content": "space-around",
       "width": "14%"
      }
     },
     "f3373b04d91b4ac78c6054343451baf2": {
      "model_module": "@jupyter-widgets/controls",
      "model_module_version": "1.5.0",
      "model_name": "DescriptionStyleModel",
      "state": {
       "description_width": ""
      }
     },
     "f4a99220b3ed444982fed6e29ec4619a": {
      "model_module": "@jupyter-widgets/controls",
      "model_module_version": "1.5.0",
      "model_name": "HBoxModel",
      "state": {
       "children": [
        "IPY_MODEL_d9e6634cac264d01a67e0ea7e2b5f66b",
        "IPY_MODEL_9829d8881d974a689a8547203de33200"
       ],
       "layout": "IPY_MODEL_253aa964a8c54b13aabda64ae1e6ed57"
      }
     },
     "f4c358951778440081b1666f11c874c2": {
      "model_module": "@jupyter-widgets/controls",
      "model_module_version": "1.5.0",
      "model_name": "LabelModel",
      "state": {
       "layout": "IPY_MODEL_e0d4fc31a7574b23835e9c8717dadef0",
       "style": "IPY_MODEL_f3373b04d91b4ac78c6054343451baf2",
       "value": "n/a"
      }
     },
     "f4ca1dd5d9a448a3af0111cce5d02625": {
      "model_module": "@jupyter-widgets/base",
      "model_module_version": "1.2.0",
      "model_name": "LayoutModel",
      "state": {
       "justify_content": "space-around",
       "width": "19%"
      }
     },
     "f62a836e8f494fcaa146b09be2b772e0": {
      "model_module": "@jupyter-widgets/base",
      "model_module_version": "1.2.0",
      "model_name": "LayoutModel",
      "state": {}
     },
     "f662a433e0b547daa864e6958a9adc92": {
      "model_module": "@jupyter-widgets/base",
      "model_module_version": "1.2.0",
      "model_name": "LayoutModel",
      "state": {
       "width": "14%"
      }
     },
     "f72d88af02a44a9baa250b69cb7d4374": {
      "model_module": "@jupyter-widgets/controls",
      "model_module_version": "1.5.0",
      "model_name": "VBoxModel",
      "state": {
       "children": [
        "IPY_MODEL_ea9cd72166684b2eab22dfb161ddaeab"
       ],
       "layout": "IPY_MODEL_e7767961688c418497331e00f7a22191"
      }
     },
     "f7d82a00093843beaefa3c52cec56a98": {
      "model_module": "@jupyter-widgets/controls",
      "model_module_version": "1.5.0",
      "model_name": "DescriptionStyleModel",
      "state": {
       "description_width": ""
      }
     },
     "f8ed7f7f24e146389935276d887604dd": {
      "model_module": "@jupyter-widgets/controls",
      "model_module_version": "1.5.0",
      "model_name": "VBoxModel",
      "state": {
       "layout": "IPY_MODEL_0f24cb5e83b349c980e8247f5888eca8"
      }
     },
     "f917827bb29f455fbbfd0920cc4cddf7": {
      "model_module": "@jupyter-widgets/controls",
      "model_module_version": "1.5.0",
      "model_name": "ButtonStyleModel",
      "state": {}
     },
     "f9acd3b5a3364db5a5ca43e1b45eb2e5": {
      "model_module": "@jupyter-widgets/controls",
      "model_module_version": "1.5.0",
      "model_name": "AccordionModel",
      "state": {
       "_titles": {
        "0": "Spark Job Progress"
       },
       "children": [
        "IPY_MODEL_d5233a224f2844439974333a9713f8a5"
       ],
       "layout": "IPY_MODEL_fcec11dab7ff45bb855f74e78793584c",
       "selected_index": null
      }
     },
     "f9b2cba26079443a8972823ef214c523": {
      "model_module": "@jupyter-widgets/controls",
      "model_module_version": "1.5.0",
      "model_name": "VBoxModel",
      "state": {
       "layout": "IPY_MODEL_bd64527dbc1f410397b5a5491927a2d9"
      }
     },
     "f9d668a40e534f1a9f8fe82e95ce7e8e": {
      "model_module": "@jupyter-widgets/base",
      "model_module_version": "1.2.0",
      "model_name": "LayoutModel",
      "state": {}
     },
     "fa1190413b134ace9f63664cd28102e5": {
      "model_module": "@jupyter-widgets/base",
      "model_module_version": "1.2.0",
      "model_name": "LayoutModel",
      "state": {
       "max_height": "500px",
       "overflow_y": "scroll"
      }
     },
     "fb715b40aa1546ab8904459bbac5df65": {
      "model_module": "@jupyter-widgets/controls",
      "model_module_version": "1.5.0",
      "model_name": "ProgressStyleModel",
      "state": {
       "description_width": ""
      }
     },
     "fb971c28d2194353bd7ff7d24423d58c": {
      "model_module": "@jupyter-widgets/controls",
      "model_module_version": "1.5.0",
      "model_name": "HBoxModel",
      "state": {
       "children": [
        "IPY_MODEL_ce20163e8f1c47f3a7bdd243d59898ea"
       ],
       "layout": "IPY_MODEL_6d1acebbe645480294c6231d216678fb"
      }
     },
     "fcae118fa98c4c569e36b3ed3f665df7": {
      "model_module": "@jupyter-widgets/controls",
      "model_module_version": "1.5.0",
      "model_name": "HBoxModel",
      "state": {
       "children": [
        "IPY_MODEL_388d96253195455c9d65f2f0cb0b0bbb"
       ],
       "layout": "IPY_MODEL_ff207adf08094ee2a39079348d2af58a"
      }
     },
     "fcbbaa21abb14776a605a0b4d4e4801a": {
      "model_module": "@jupyter-widgets/controls",
      "model_module_version": "1.5.0",
      "model_name": "ProgressStyleModel",
      "state": {
       "description_width": ""
      }
     },
     "fcec11dab7ff45bb855f74e78793584c": {
      "model_module": "@jupyter-widgets/base",
      "model_module_version": "1.2.0",
      "model_name": "LayoutModel",
      "state": {}
     },
     "fd044156163c48d9a3439447e8e999ad": {
      "model_module": "@jupyter-widgets/base",
      "model_module_version": "1.2.0",
      "model_name": "LayoutModel",
      "state": {
       "height": "25px",
       "width": "50%"
      }
     },
     "fd521294b4d5472c8eb36eae56217755": {
      "model_module": "@jupyter-widgets/base",
      "model_module_version": "1.2.0",
      "model_name": "LayoutModel",
      "state": {}
     },
     "fd64b073750f4f469d191ce42c1396ba": {
      "model_module": "@jupyter-widgets/base",
      "model_module_version": "1.2.0",
      "model_name": "LayoutModel",
      "state": {
       "justify_content": "space-around",
       "width": "12%"
      }
     },
     "fd901a3fa51e48ddb0b18828ed0d7849": {
      "model_module": "@jupyter-widgets/base",
      "model_module_version": "1.2.0",
      "model_name": "LayoutModel",
      "state": {
       "width": "29%"
      }
     },
     "fdb5a7a34ded40ad84f0c8add4afc7e3": {
      "model_module": "@jupyter-widgets/base",
      "model_module_version": "1.2.0",
      "model_name": "LayoutModel",
      "state": {
       "width": "19%"
      }
     },
     "fdd4ac374035493e8414a7bea1bbdaee": {
      "model_module": "@jupyter-widgets/base",
      "model_module_version": "1.2.0",
      "model_name": "LayoutModel",
      "state": {}
     },
     "fde18eb23bff437db19e8d48201a0a57": {
      "model_module": "@jupyter-widgets/base",
      "model_module_version": "1.2.0",
      "model_name": "LayoutModel",
      "state": {
       "width": "60%"
      }
     },
     "fe0ce15137c54f549f7950c21a95cdce": {
      "model_module": "@jupyter-widgets/controls",
      "model_module_version": "1.5.0",
      "model_name": "ButtonModel",
      "state": {
       "description": "Status",
       "layout": "IPY_MODEL_c26e472c5d384518ad4ec7772f37af3f",
       "style": "IPY_MODEL_67cba6d4805049a6b038748a6b3990de"
      }
     },
     "ff207adf08094ee2a39079348d2af58a": {
      "model_module": "@jupyter-widgets/base",
      "model_module_version": "1.2.0",
      "model_name": "LayoutModel",
      "state": {
       "justify_content": "space-around",
       "width": "12%"
      }
     },
     "ff23bf05755549ac8fa0375112f0eeea": {
      "model_module": "@jupyter-widgets/controls",
      "model_module_version": "1.5.0",
      "model_name": "LabelModel",
      "state": {
       "layout": "IPY_MODEL_6430e3a730b24ed6bbe3bf08127fd54a",
       "style": "IPY_MODEL_798f5c43ff7a4e24ad347b96ab813f2e",
       "value": "Progress for take at <stdin>:6"
      }
     },
     "ff2a27dd044e4cb5a646460f49ee8ea9": {
      "model_module": "@jupyter-widgets/controls",
      "model_module_version": "1.5.0",
      "model_name": "HBoxModel",
      "state": {
       "children": [
        "IPY_MODEL_d9d293956ee041c2b655dcca7ce8998f"
       ],
       "layout": "IPY_MODEL_d2ea22a723124ac39b960fce6183c29f"
      }
     },
     "ff69d983d06f43a786ab9240b151f51f": {
      "model_module": "@jupyter-widgets/controls",
      "model_module_version": "1.5.0",
      "model_name": "DescriptionStyleModel",
      "state": {
       "description_width": ""
      }
     }
    },
    "version_major": 2,
    "version_minor": 0
   }
  }
 },
 "nbformat": 4,
 "nbformat_minor": 5
}
